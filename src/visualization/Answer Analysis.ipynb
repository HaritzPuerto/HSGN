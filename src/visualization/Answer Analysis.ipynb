{
 "cells": [
  {
   "cell_type": "code",
   "execution_count": 11,
   "metadata": {
    "ExecuteTime": {
     "end_time": "2020-10-04T07:18:08.526617Z",
     "start_time": "2020-10-04T07:18:08.521708Z"
    }
   },
   "outputs": [],
   "source": [
    "import json\n",
    "from fuzzywuzzy import fuzz"
   ]
  },
  {
   "cell_type": "code",
   "execution_count": 17,
   "metadata": {
    "ExecuteTime": {
     "end_time": "2020-10-04T07:20:38.367422Z",
     "start_time": "2020-10-04T07:20:38.356627Z"
    }
   },
   "outputs": [],
   "source": [
    "import sys\n",
    "import re\n",
    "import string\n",
    "from collections import Counter\n",
    "import pickle\n",
    "\n",
    "def normalize_answer(s):\n",
    "\n",
    "    def remove_articles(text):\n",
    "        return re.sub(r'\\b(a|an|the)\\b', ' ', text)\n",
    "\n",
    "    def white_space_fix(text):\n",
    "        return ' '.join(text.split())\n",
    "\n",
    "    def remove_punc(text):\n",
    "        exclude = set(string.punctuation)\n",
    "        return ''.join(ch for ch in text if ch not in exclude)\n",
    "\n",
    "    def lower(text):\n",
    "        return text.lower()\n",
    "\n",
    "    return white_space_fix(remove_articles(remove_punc(lower(s))))\n",
    "\n",
    "\n",
    "def f1_score(prediction, ground_truth):\n",
    "    normalized_prediction = normalize_answer(prediction)\n",
    "    normalized_ground_truth = normalize_answer(ground_truth)\n",
    "\n",
    "    ZERO_METRIC = (0, 0, 0)\n",
    "\n",
    "    if normalized_prediction in ['yes', 'no', 'noanswer'] and normalized_prediction != normalized_ground_truth:\n",
    "        return ZERO_METRIC\n",
    "    if normalized_ground_truth in ['yes', 'no', 'noanswer'] and normalized_prediction != normalized_ground_truth:\n",
    "        return ZERO_METRIC\n",
    "\n",
    "    prediction_tokens = normalized_prediction.split()\n",
    "    ground_truth_tokens = normalized_ground_truth.split()\n",
    "    common = Counter(prediction_tokens) & Counter(ground_truth_tokens)\n",
    "    num_same = sum(common.values())\n",
    "    if num_same == 0:\n",
    "        return ZERO_METRIC\n",
    "    precision = 1.0 * num_same / len(prediction_tokens)\n",
    "    recall = 1.0 * num_same / len(ground_truth_tokens)\n",
    "    f1 = (2 * precision * recall) / (precision + recall)\n",
    "    return f1, precision, recall\n",
    "\n",
    "\n",
    "def exact_match_score(prediction, ground_truth):\n",
    "    return (normalize_answer(prediction) == normalize_answer(ground_truth))"
   ]
  },
  {
   "cell_type": "code",
   "execution_count": 2,
   "metadata": {
    "ExecuteTime": {
     "end_time": "2020-10-04T07:13:37.688232Z",
     "start_time": "2020-10-04T07:13:37.633579Z"
    }
   },
   "outputs": [],
   "source": [
    "with open('pred_codalab.json', 'r') as f:\n",
    "    pred = json.load(f)"
   ]
  },
  {
   "cell_type": "code",
   "execution_count": 3,
   "metadata": {
    "ExecuteTime": {
     "end_time": "2020-10-04T07:14:07.376532Z",
     "start_time": "2020-10-04T07:14:07.015421Z"
    }
   },
   "outputs": [],
   "source": [
    "with open('../../data/external/hotpot_dev_distractor_v1.json', 'r') as f:\n",
    "    dev = json.load(f)"
   ]
  },
  {
   "cell_type": "code",
   "execution_count": 4,
   "metadata": {
    "ExecuteTime": {
     "end_time": "2020-10-04T07:14:29.577910Z",
     "start_time": "2020-10-04T07:14:29.568843Z"
    }
   },
   "outputs": [],
   "source": [
    "dict_id2ans = dict()\n",
    "for ins in dev:\n",
    "    _id = ins['_id']\n",
    "    ans = ins['answer']\n",
    "    dict_id2ans[_id] = ans"
   ]
  },
  {
   "cell_type": "code",
   "execution_count": 22,
   "metadata": {
    "ExecuteTime": {
     "end_time": "2020-10-04T07:22:40.212526Z",
     "start_time": "2020-10-04T07:22:40.010714Z"
    }
   },
   "outputs": [
    {
     "name": "stdout",
     "output_type": "stream",
     "text": [
      "9,984 ### 9, 984\n",
      "Robert Erskine Childers DSC ### Robert Erskine Childers\n",
      "1,462 ### 1, 462\n",
      "35,124 ### 35, 124\n",
      "$10.5 million ### $ 10. 5 million\n",
      "right-hand ### right - hand\n",
      "super-regional shopping mall ### super - regional shopping mall\n",
      "Slaughterhouse-Five ### Slaughterhouse - Five\n",
      "3,384,569 ### 3, 384, 569\n",
      "Pakistani ### Pakistan\n",
      "76,416 ### 76, 416\n",
      "728,000 ft² ### 728, 000 ft²\n",
      "51,271 ### 51, 271\n",
      "1.95 m ### 1. 95 m\n",
      "4,613 ### 4, 613\n",
      "The R-8 Human Rhythm Composer ### The R - 8 Human Rhythm Composer\n",
      "Queen In-hyun's Man ### Queen In - hyun's Man\n",
      "Symphony No. 7 ### Symphony No. 1\n",
      "Jean-Loup Jacques Marie Chrétien ### Jean - Loup Jacques Marie Chrétien\n",
      "natural-ingredients-only personal care products ### natural - ingredients - only personal care products\n",
      "Hessians ### Hessian\n",
      "video game ### videogame\n",
      "gull-wing doors ### gull - wing doors\n",
      "1,800 ### 1, 800\n",
      "Regional Rural Bank ### Regional Rural Banks\n",
      "media for the 65.8 million ### media for the 65. 8 million\n",
      "Thomas Warburton ### Tom Warburton\n",
      "26–30 August 1914 ### 26 – 30 August 1914\n",
      "Punjabi/Pashtun ### Punjabi / Pashtun\n",
      "Ulf Dietrich Merbold ### Dr. Ulf Dietrich Merbold\n",
      "2.1 million ### 2. 1 million\n",
      "Boeing EA-18G Growler ### Boeing EA - 18G Growler\n",
      "Twin Pines/Lone Pine Mall ### Twin Pines / Lone Pine Mall\n",
      "\"An All-Colored Vaudeville Show\" ### An All - Colored Vaudeville Show\n",
      "2006 season ### 2007 season\n",
      "great-grandfather ### great - grandfather\n",
      "American-born ### American - born\n",
      "Distaghil Sar ### Disteghil Sar\n",
      "U.S. Bancorp ### U. S. Bancorp\n",
      "Abū Bakr ibn Muḥammad ibn al Ḥusayn al-Karajī ### Abū Bakr ibn Muḥammad ibn al Ḥusayn al - Karajī\n",
      "Paleo-Indians ### Paleo - Indians\n",
      "writer ### writers\n",
      "Peter 'Drago' Sell ### Peter'Drago'Sell\n",
      "John Lennon/Plastic Ono Band ### John Lennon / Plastic Ono Band\n",
      "12,272 ### 12, 272\n",
      "5,042 ### 5, 042\n",
      "massively multiplayer online role-playing video game ### massively multiplayer online role - playing video game\n",
      "English-language ### English - language\n",
      "37,776 ### 37, 776\n",
      "fifth-largest ### fifth - largest\n",
      "Boston, Providence, Hartford, New York City, Philadelphia, Wilmington, Baltimore, and Washington, D.C. ### Boston, Providence, Hartford, New York City, Philadelphia, Wilmington, Baltimore, and Washington, D. C.\n",
      "86,112 ### 86, 112\n",
      "St.George ### St. George\n",
      "county-level ### county - level\n",
      "neuro-orthopaedic ### neuro - orthopaedic\n",
      "143,007 ### 143, 007\n",
      "26,788 ### 26, 788\n",
      "138,535 ### 138, 535\n",
      "Guadalupe \"Lupe\" Ontiveros ### Guadalupe \" Lupe \" Ontive\n",
      "Chick tracts ### Chick tract\n",
      "O.T. Genasis ### O. T. Genasis\n",
      "Hail! Hail! Rock 'n' Roll ### Hail! Hail! Rock'n'Roll\n",
      "Charles Spencer \"Charlie\" Chaplin ### Sir Charles Spencer \" Charlie \" Chaplin\n",
      "47,818 ### 47, 818\n",
      "Critics' Choice Television Award for Best Supporting Actress in a Comedy Series ### Critics'Choice Television Award for Best Supporting Actress in a Comedy Series\n",
      "role-playing game ### role - playing games\n",
      "Saint-Domingue ### Saint - Domingue\n",
      "42.195 ### 42. 195\n",
      "Baden-Württemberg ### Baden - Württemberg\n",
      "1.7 billion ### 1. 7 billion\n",
      "Metro-Goldwyn-Mayer ### Metro - Goldwyn - Mayer\n",
      "US$13 billion ### US $ 13 billion\n",
      "both a lauded intellectual and a controversial public figure ### a lauded intellectual and a controversial public figure\n",
      "sub-Saharan Africa ### sub - Saharan Africa\n",
      "Dirk Werner Nowitzki ### Dirk Werner Nowitz\n",
      "Rafael Souza dos Anjos ### Rafael Souza dos An\n",
      "Johnny D. Bright ### Johnny Bright\n",
      "Girls' Generation ### Girls'Generation\n",
      "1200000 oilbbl/d ### 1200000 oilbbl / d\n",
      "The Ten-Year Lunch ### The Ten - Year Lunch\n",
      "Denmark men's national ice hockey ### Denmark men's national ice hockey team\n",
      "Tennessee–Tombigbee Waterway ### Tennessee – Tombigbee Waterway\n",
      "Tsung-Dao Lee ### Tsung - Dao Lee\n",
      "George Albert Smith ### George Albert Smith Sr.\n",
      "3.9 mi ### 3. 9 mi\n",
      "Kamal al-Din Hasan ibn Ali ibn Hasan al-Farisi ### Kamal al - Din Hasan ibn Ali ibn Hasan al - Farisi\n",
      "support for the establishment of a \"national home for the Jewish people\" in Palestine ### support for the establishment of a \" national home for the Jewish people\n",
      "102,984 ### 102, 984\n",
      "8,648 ### 8, 648\n",
      "1,521 ### 1, 521\n",
      "county-level city ### county - level city\n",
      "opera ### operas\n",
      "Tudor music and English folk-song ### Tudor music and English folk - song\n",
      "European route E 22 ### European route E22\n",
      "250,000 ### 250, 000\n",
      "Kurt Julian Weill ### Kurt Julian Wei\n",
      "writers ### writer\n",
      "5.3 million ### 5. 3 million\n",
      "Song Il-gon ### Song Il - gon\n",
      "4.3 km2 ### 4. 3 km2\n",
      "Camille Saint-Saëns ### Camille Saint - Saëns\n",
      "Gabrielle-Suzanne Barbot de Villeneuve ### Gabrielle - Suzanne Barbot de Villeneuve\n",
      "Livin' la Vida Loca ### Livin'la Vida Loca\n",
      "200,000 ### 200, 000\n",
      "Niger–Congo ### Niger – Congo\n",
      "381.6 days ### 381. 6 days\n",
      "19th-century ### 19th - century\n",
      "Park Yong-gyu ### Park Yong - gyu\n",
      "near Philip Billard Municipal Airport ### Philip Billard Municipal Airport\n",
      "200,167 ### 200, 167\n",
      "European Champion Clubs' Cup ### European Champion Clubs'Cup\n",
      "Daimler-Benz ### Daimler - Benz\n",
      "Savin Yeatman-Eiffel ### Savin Yeatman - Eiffel\n",
      "Richard Poole ### DI Richard Poole\n",
      "11,791 ### 11, 791\n",
      "35,402 ### 35, 402\n",
      "for crafting and voting on legislation ### crafting and voting on legislation\n",
      "U.S. Army ### U. S. Army\n",
      "self-directed work processes ### self - directed work processes\n",
      "Roslyn Castle ### Roslin Castle\n",
      "South Korea ### South Korean\n",
      "7.63×25mm Mauser ### 7. 63×25mm Mauser\n",
      "William Turner Walton ### Sir William Turner Walton\n",
      "Captain B.J. Hunnicutt ### Captain B. J. Hunnicutt\n",
      "writer ### writers\n",
      "singer-songwriter ### singer - songwriter\n",
      "20 March to 1 May 2003 ### March to 1 May 2003\n",
      "3D computer-animated musical fantasy-adventure film ### 3D computer - animated musical fantasy - adventure film\n",
      "1909 Cuban-American Major League Clubs Series ### 1909 Cuban - American Major League Clubs Series\n",
      "more than four and a half million people ### more than four and a half million\n",
      "18.7 miles ### 18. 7 miles\n",
      "Jean-Marie Pfaff ### Jean - Marie Pfaff\n",
      "Wilkes-Barre/Scranton International Airport ### Wilkes - Barre / Scranton International Airport\n",
      "11,163 ### 11, 163\n",
      "27,000 ### 27, 000\n",
      "Israeli-American ### Israeli - American\n",
      "January 1788 ### 1 January 1788\n",
      "35,000 ### 35, 000\n",
      "a prefecture-level city ### prefecture - level city\n",
      "Washington, D.C. ### Washington, D. C.\n",
      "10,000 years ago ### 10, 000 years ago\n",
      "SpongeBob SquarePants 4-D ### SpongeBob SquarePants 4 - D\n",
      "Prussia ### Prussian\n",
      "Pac-12 Conference ### Pac - 12 Conference\n",
      "\"media for the 65.8 million,\" ### media for the 65. 8 million\n",
      "42,972 ### 42, 972\n",
      "Cashin' In ### Cashin'In\n",
      "5,922 ### 5, 922\n",
      "2.3 million pesos ### 2. 3 million pesos\n",
      "9–10 March 1945 ### 9 – 10 March 1945\n",
      "Sarah Kate Silverman ### Sarah Kate Silver\n",
      "Marvel Comics ### Marvel Comic\n",
      "67,575 ### 67, 575\n",
      "321,520 ### 321, 520\n",
      "Wu-Tang Clan ### Wu - Tang Clan\n",
      "Washington, D.C. ### Washington, D. C.\n",
      "Jean-Marc Vallée ### Jean - Marc Vallée\n",
      "Thriller ### Thrillers\n",
      "Airbus A380 ### Airbus A380s\n",
      "Roc-A-Fella Records and Priority Records ### Roc - A - Fella Records and Priority Records\n",
      "pop/soft rock stations ### pop / soft rock stations\n",
      "singer and songwriter ### singer - songwriter\n",
      "Golden Globe for Best Supporting Actress ### 2002 Golden Globe for Best Supporting Actress\n",
      "its riverside location ### riverside location\n",
      "Anglo-Saxon Chronicle ### Anglo - Saxon Chronicle\n",
      "$10,000 Kelly ### $ 10, 000 Kelly\n",
      "by the moods they elicit ### the moods they elicit\n",
      "Lee Seok-hoon ### Lee Seok - hoon\n",
      "Emilia-Romagna Region ### Emilia - Romagna Region\n",
      "Charles Guiteau ### Charles J. Guiteau\n",
      "Rikki Farr's ### Rikki Farr\n",
      "post–World War II ### post – World War II\n",
      "Workers' Party ### Workers'Party\n",
      "10-metre platform event ### 10 - metre platform event\n",
      "15,023 ### 15, 023\n",
      "Pakistan ### Pakistani\n",
      "House of Habsburg-Lorraine ### House of Habsburg - Lorraine\n",
      "Washington, D.C. ### Washington, D. C.\n",
      "United States Secretary of the Interior ### 52nd United States Secretary of the Interior\n",
      "more than 26,000 ### more than 26, 000\n",
      "Pigman's Bar-B-Que ### Pigman's Bar - B - Que\n",
      "fixed-roof ### fixed - roof\n",
      "Anheuser-Busch ### Anheuser - Busch\n",
      "45,698 ### 45, 698\n",
      "Iranian-American ### Iranian - American\n",
      "2,664 ### 2, 664\n",
      "Australian ### Australia\n",
      "lithium-ion battery ### lithium - ion battery\n",
      "4,972 ### 4, 972\n",
      "Vilius Storostas-Vydūnas ### Vilius Storostas - Vydūnas\n",
      "Lithuania ### Lithuanian\n",
      "8,515 ### 8, 515\n",
      "Koninklijke Ahold N.V. ### Koninklijke Ahold N. V.\n",
      "by Larry Eustachy ### Larry Eustachy\n",
      "Appleby-in-Westmorland ### Appleby - in - Westmorland\n",
      "1,289,500 ### 1, 289, 500\n",
      "Yuen Woo-ping ### Yuen Woo - ping\n",
      "December 31, 2015 ### December 31, 2014\n",
      "Shia Saide LaBeouf ### Shia Saide LaBeo\n",
      "Manchester–Boston Regional Airport ### Manchester – Boston Regional Airport\n",
      "War/Dance ### War / Dance\n",
      "6,241 ### 6, 241\n",
      "631,486 ### 631, 486\n",
      "26,000 ### 26, 000\n",
      "Michael Kemp Tippett ### Sir Michael Kemp Tippett\n",
      "Elvis' Christmas Album ### Elvis'Christmas Album\n",
      "Kristen Carroll Wiig ### Kristen Carroll Wii\n",
      "Wild Hearts Can’t Be Broken ### Wild Hearts Can ’ t Be Broken\n",
      "Erich Schmidt-Leichner ### Erich Schmidt - Leichner\n",
      "Park Ye-jin ### Park Ye - jin\n",
      "265,000 ### 265, 000\n",
      "Washington, D.C. ### Washington, D. C.\n",
      "1,382 ### 1, 382\n",
      "fifty-word ### fifty - word\n",
      "Rudolph the Red-Nosed Reindeer ### Rudolph the Red - Nosed Reindeer\n",
      "Section.80 ### Section. 80\n",
      "PlayStation 4 ### PlayStation 3\n",
      "16,825 ### 16, 825\n",
      "Trent Alexander-Arnold ### Trent Alexander - Arnold\n",
      "1994–95 NBA season ### 1994 – 95 NBA season\n",
      "India's first dedicated multi-wavelength space observatory. ### India's first dedicated multi - wavelength space observatory\n",
      "most awarded female act of all-time ### most awarded female act of all - time\n",
      "Stern-Plaza ### Stern - Plaza\n",
      "16,116 ### 16, 116\n",
      "cocktails ### cocktail\n",
      "Economic Cooperation Organisation ### Economic Cooperation Organization\n",
      "Danielle Fernandes Dominique Schuelein-Steel ### Danielle Fernandes Dominique Schuelein - Steel\n",
      "122,067 ### 122, 067\n",
      "Holinshed's Chronicle ### Holinshed's Chronicles\n",
      "pizzas ### pizza\n",
      "Bury, Greater Manchester, England ### Greater Manchester, England\n",
      "689,775 ### 689, 775\n",
      "7.2 million ### 7. 2 million\n",
      "Kim Sung-su ### Kim Sung - su\n",
      "Radio-Activity ### Radio - Activity\n",
      "Fiat Chrysler Automobiles N.V. ### Fiat Chrysler Automobiles N. V.\n",
      "Canadian-American Association of Professional Baseball ### Canadian - American Association of Professional Baseball\n",
      "1,693 ### 1, 693\n",
      "pro-vice-chancellor ### pro - vice - chancellor\n",
      "Washington, D.C. ### Washington, D. C.\n",
      "Pennsylvania's ### Pennsylvania\n",
      "Woodbridge Strong Van Dyke II ### Woodbridge Strong Van Dyke\n",
      "Yoo Seung-ho ### Yoo Seung - ho\n",
      "29,000 ### 29, 000\n",
      "poi, Kalua pig, poke, lomi salmon, opihi, haupia ### poi, Kalua pig, poke, lomi salmon, opihi, haupia and beer\n",
      "Russia ### Russian\n",
      "Dick Smith Super-80 ### Dick Smith Super - 80\n",
      "Lin-Manuel Miranda ### Lin - Manuel Miranda\n",
      "chocolate-colored ### chocolate - colored\n",
      "80,000 years BP ### 80, 000 years BP\n"
     ]
    }
   ],
   "source": [
    "cnt = 0\n",
    "em_cnt = 0\n",
    "for _id in pred['answer'].keys():\n",
    "    lbl = dict_id2ans[_id]\n",
    "    ans = pred['answer'][_id]\n",
    "    if exact_match_score(ans, lbl):\n",
    "        em_cnt += 1\n",
    "    if fuzz.ratio(lbl, ans) >= 90 and not exact_match_score(ans, lbl):\n",
    "        print(lbl, \"###\", ans)\n",
    "        cnt += 1"
   ]
  },
  {
   "cell_type": "code",
   "execution_count": 21,
   "metadata": {
    "ExecuteTime": {
     "end_time": "2020-10-04T07:22:04.528482Z",
     "start_time": "2020-10-04T07:22:04.522434Z"
    }
   },
   "outputs": [
    {
     "data": {
      "text/plain": [
       "250"
      ]
     },
     "execution_count": 21,
     "metadata": {},
     "output_type": "execute_result"
    }
   ],
   "source": [
    "cnt"
   ]
  },
  {
   "cell_type": "code",
   "execution_count": 24,
   "metadata": {
    "ExecuteTime": {
     "end_time": "2020-10-04T07:22:48.193489Z",
     "start_time": "2020-10-04T07:22:48.187666Z"
    }
   },
   "outputs": [
    {
     "data": {
      "text/plain": [
       "0.5665091154625254"
      ]
     },
     "execution_count": 24,
     "metadata": {},
     "output_type": "execute_result"
    }
   ],
   "source": [
    "em_cnt/len(dev)"
   ]
  },
  {
   "cell_type": "code",
   "execution_count": 25,
   "metadata": {
    "ExecuteTime": {
     "end_time": "2020-10-04T07:23:00.315967Z",
     "start_time": "2020-10-04T07:23:00.310021Z"
    }
   },
   "outputs": [
    {
     "data": {
      "text/plain": [
       "0.600270087778528"
      ]
     },
     "execution_count": 25,
     "metadata": {},
     "output_type": "execute_result"
    }
   ],
   "source": [
    "(em_cnt+cnt)/len(dev)"
   ]
  },
  {
   "cell_type": "code",
   "execution_count": 10,
   "metadata": {
    "ExecuteTime": {
     "end_time": "2020-10-04T07:17:05.470059Z",
     "start_time": "2020-10-04T07:17:05.464517Z"
    }
   },
   "outputs": [
    {
     "data": {
      "text/plain": [
       "'Norwood, Massachusetts'"
      ]
     },
     "execution_count": 10,
     "metadata": {},
     "output_type": "execute_result"
    }
   ],
   "source": [
    "lbl"
   ]
  },
  {
   "cell_type": "code",
   "execution_count": 29,
   "metadata": {
    "ExecuteTime": {
     "end_time": "2020-10-04T07:36:26.133531Z",
     "start_time": "2020-10-04T07:36:26.113884Z"
    }
   },
   "outputs": [],
   "source": [
    "cnt = 0\n",
    "for _id in pred['answer'].keys():\n",
    "    lbl = dict_id2ans[_id]\n",
    "    ans = pred['answer'][_id]\n",
    "    if ans == \"\":\n",
    "        cnt += 1"
   ]
  },
  {
   "cell_type": "code",
   "execution_count": 30,
   "metadata": {
    "ExecuteTime": {
     "end_time": "2020-10-04T07:36:26.535424Z",
     "start_time": "2020-10-04T07:36:26.525974Z"
    }
   },
   "outputs": [
    {
     "data": {
      "text/plain": [
       "151"
      ]
     },
     "execution_count": 30,
     "metadata": {},
     "output_type": "execute_result"
    }
   ],
   "source": [
    "cnt"
   ]
  },
  {
   "cell_type": "code",
   "execution_count": 31,
   "metadata": {
    "ExecuteTime": {
     "end_time": "2020-10-04T07:36:36.599254Z",
     "start_time": "2020-10-04T07:36:36.596054Z"
    }
   },
   "outputs": [
    {
     "data": {
      "text/plain": [
       "0.5869007427413909"
      ]
     },
     "execution_count": 31,
     "metadata": {},
     "output_type": "execute_result"
    }
   ],
   "source": [
    "(em_cnt+cnt)/len(dev)"
   ]
  },
  {
   "cell_type": "code",
   "execution_count": null,
   "metadata": {},
   "outputs": [],
   "source": []
  }
 ],
 "metadata": {
  "kernelspec": {
   "display_name": "Python 3.7.6 64-bit ('thesis': conda)",
   "language": "python",
   "name": "python37664bitthesiscondab41bf2933e9a4569919959ca0a5b9be5"
  },
  "language_info": {
   "codemirror_mode": {
    "name": "ipython",
    "version": 3
   },
   "file_extension": ".py",
   "mimetype": "text/x-python",
   "name": "python",
   "nbconvert_exporter": "python",
   "pygments_lexer": "ipython3",
   "version": "3.7.6"
  },
  "toc": {
   "base_numbering": 1,
   "nav_menu": {},
   "number_sections": false,
   "sideBar": true,
   "skip_h1_title": false,
   "title_cell": "Table of Contents",
   "title_sidebar": "Contents",
   "toc_cell": false,
   "toc_position": {},
   "toc_section_display": true,
   "toc_window_display": false
  }
 },
 "nbformat": 4,
 "nbformat_minor": 2
}
