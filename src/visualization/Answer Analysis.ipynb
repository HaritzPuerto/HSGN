{
 "cells": [
  {
   "cell_type": "code",
   "execution_count": 5,
   "metadata": {
    "ExecuteTime": {
     "end_time": "2020-10-06T04:52:48.859573Z",
     "start_time": "2020-10-06T04:52:48.855098Z"
    }
   },
   "outputs": [],
   "source": [
    "import json\n",
    "from fuzzywuzzy import fuzz"
   ]
  },
  {
   "cell_type": "code",
   "execution_count": 6,
   "metadata": {
    "ExecuteTime": {
     "end_time": "2020-10-06T04:52:49.203658Z",
     "start_time": "2020-10-06T04:52:49.194801Z"
    }
   },
   "outputs": [],
   "source": [
    "import sys\n",
    "import re\n",
    "import string\n",
    "from collections import Counter\n",
    "import pickle\n",
    "\n",
    "def normalize_answer(s):\n",
    "\n",
    "    def remove_articles(text):\n",
    "        return re.sub(r'\\b(a|an|the)\\b', ' ', text)\n",
    "\n",
    "    def white_space_fix(text):\n",
    "        return ' '.join(text.split())\n",
    "\n",
    "    def remove_punc(text):\n",
    "        exclude = set(string.punctuation)\n",
    "        return ''.join(ch for ch in text if ch not in exclude)\n",
    "\n",
    "    def lower(text):\n",
    "        return text.lower()\n",
    "\n",
    "    return white_space_fix(remove_articles(remove_punc(lower(s))))\n",
    "\n",
    "\n",
    "def f1_score(prediction, ground_truth):\n",
    "    normalized_prediction = normalize_answer(prediction)\n",
    "    normalized_ground_truth = normalize_answer(ground_truth)\n",
    "\n",
    "    ZERO_METRIC = (0, 0, 0)\n",
    "\n",
    "    if normalized_prediction in ['yes', 'no', 'noanswer'] and normalized_prediction != normalized_ground_truth:\n",
    "        return ZERO_METRIC\n",
    "    if normalized_ground_truth in ['yes', 'no', 'noanswer'] and normalized_prediction != normalized_ground_truth:\n",
    "        return ZERO_METRIC\n",
    "\n",
    "    prediction_tokens = normalized_prediction.split()\n",
    "    ground_truth_tokens = normalized_ground_truth.split()\n",
    "    common = Counter(prediction_tokens) & Counter(ground_truth_tokens)\n",
    "    num_same = sum(common.values())\n",
    "    if num_same == 0:\n",
    "        return ZERO_METRIC\n",
    "    precision = 1.0 * num_same / len(prediction_tokens)\n",
    "    recall = 1.0 * num_same / len(ground_truth_tokens)\n",
    "    f1 = (2 * precision * recall) / (precision + recall)\n",
    "    return f1, precision, recall\n",
    "\n",
    "\n",
    "def exact_match_score(prediction, ground_truth):\n",
    "    return (normalize_answer(prediction) == normalize_answer(ground_truth))"
   ]
  },
  {
   "cell_type": "code",
   "execution_count": 45,
   "metadata": {
    "ExecuteTime": {
     "end_time": "2020-10-06T01:28:45.492305Z",
     "start_time": "2020-10-06T01:28:45.406891Z"
    }
   },
   "outputs": [],
   "source": [
    "with open('pred_codalab.json', 'r') as f:\n",
    "    pred = json.load(f)"
   ]
  },
  {
   "cell_type": "code",
   "execution_count": 7,
   "metadata": {
    "ExecuteTime": {
     "end_time": "2020-10-06T04:52:51.740087Z",
     "start_time": "2020-10-06T04:52:51.398574Z"
    }
   },
   "outputs": [],
   "source": [
    "with open('../../data/external/hotpot_dev_distractor_v1.json', 'r') as f:\n",
    "    dev = json.load(f)"
   ]
  },
  {
   "cell_type": "code",
   "execution_count": 10,
   "metadata": {
    "ExecuteTime": {
     "end_time": "2020-10-06T04:53:02.589338Z",
     "start_time": "2020-10-06T04:53:02.583022Z"
    }
   },
   "outputs": [],
   "source": [
    "dict_id2ans = dict()\n",
    "for ins in dev:\n",
    "    _id = ins['_id']\n",
    "    ans = ins['answer']\n",
    "    dict_id2ans[_id] = ans"
   ]
  },
  {
   "cell_type": "markdown",
   "metadata": {},
   "source": [
    "# Long ans span"
   ]
  },
  {
   "cell_type": "code",
   "execution_count": 48,
   "metadata": {
    "ExecuteTime": {
     "end_time": "2020-10-06T01:28:47.200178Z",
     "start_time": "2020-10-06T01:28:47.185310Z"
    }
   },
   "outputs": [],
   "source": [
    "list_len_span = []\n",
    "list_len_lbl = []\n",
    "for _id in pred['answer'].keys():\n",
    "    span = pred['answer'][_id]\n",
    "    list_len_span.append(len(span.split()))\n",
    "    list_len_lbl.append(len(dict_id2ans[_id].split()))\n",
    "list_len_span.sort(reverse=True)\n",
    "list_len_lbl.sort(reverse=True)"
   ]
  },
  {
   "cell_type": "code",
   "execution_count": 49,
   "metadata": {
    "ExecuteTime": {
     "end_time": "2020-10-06T01:28:47.812511Z",
     "start_time": "2020-10-06T01:28:47.801222Z"
    }
   },
   "outputs": [
    {
     "data": {
      "text/plain": [
       "[29, 26, 19, 19, 18, 18, 17, 16, 16, 16]"
      ]
     },
     "execution_count": 49,
     "metadata": {},
     "output_type": "execute_result"
    }
   ],
   "source": [
    "list_len_lbl[0:10]"
   ]
  },
  {
   "cell_type": "code",
   "execution_count": 50,
   "metadata": {
    "ExecuteTime": {
     "end_time": "2020-10-06T01:28:48.692226Z",
     "start_time": "2020-10-06T01:28:48.685821Z"
    }
   },
   "outputs": [
    {
     "data": {
      "text/plain": [
       "[214,\n",
       " 182,\n",
       " 170,\n",
       " 154,\n",
       " 153,\n",
       " 149,\n",
       " 141,\n",
       " 135,\n",
       " 120,\n",
       " 119,\n",
       " 117,\n",
       " 117,\n",
       " 117,\n",
       " 116,\n",
       " 104,\n",
       " 101,\n",
       " 100,\n",
       " 99,\n",
       " 98,\n",
       " 97,\n",
       " 95,\n",
       " 90,\n",
       " 89,\n",
       " 88,\n",
       " 88,\n",
       " 87,\n",
       " 82,\n",
       " 79,\n",
       " 75,\n",
       " 75,\n",
       " 71,\n",
       " 67,\n",
       " 67,\n",
       " 62,\n",
       " 62,\n",
       " 55,\n",
       " 55,\n",
       " 55,\n",
       " 51,\n",
       " 49,\n",
       " 49,\n",
       " 44,\n",
       " 44,\n",
       " 41,\n",
       " 40,\n",
       " 39,\n",
       " 37,\n",
       " 37,\n",
       " 37,\n",
       " 34]"
      ]
     },
     "execution_count": 50,
     "metadata": {},
     "output_type": "execute_result"
    }
   ],
   "source": [
    "list_len_span[0:50]"
   ]
  },
  {
   "cell_type": "markdown",
   "metadata": {},
   "source": [
    "# Ans len by wh type"
   ]
  },
  {
   "cell_type": "code",
   "execution_count": 9,
   "metadata": {
    "ExecuteTime": {
     "end_time": "2020-10-06T04:52:55.572934Z",
     "start_time": "2020-10-06T04:52:55.566896Z"
    }
   },
   "outputs": [],
   "source": [
    "dict_id2query = dict()\n",
    "for ins in dev:\n",
    "    _id = ins['_id']\n",
    "    q = ins['question']\n",
    "    dict_id2query[_id] = q"
   ]
  },
  {
   "cell_type": "code",
   "execution_count": 57,
   "metadata": {
    "ExecuteTime": {
     "end_time": "2020-10-06T01:38:12.928756Z",
     "start_time": "2020-10-06T01:38:11.753056Z"
    }
   },
   "outputs": [],
   "source": [
    "import spacy\n",
    "nlp = spacy.load('en')"
   ]
  },
  {
   "cell_type": "code",
   "execution_count": 69,
   "metadata": {
    "ExecuteTime": {
     "end_time": "2020-10-06T01:43:55.051567Z",
     "start_time": "2020-10-06T01:43:55.042970Z"
    }
   },
   "outputs": [],
   "source": [
    "import spacy\n",
    "nlp = spacy.load('en')\n",
    "def findWHword(sentence):\n",
    "    candidate = ['when', 'how', 'where', 'which', 'what', 'who', 'how many', 'whose', 'whom']\n",
    "    sentence = sentence.lower()\n",
    "    doc = nlp(sentence)\n",
    "    if 'how' in sentence.split() and 'how many' in sentence:\n",
    "        return 'how many'\n",
    "    for w in reversed(doc):\n",
    "        if w.pos_ == 'NN': continue\n",
    "        else:\n",
    "            for can in candidate:\n",
    "                if can in w.text:\n",
    "                    return can\n",
    "            break\n",
    "    whs = []\n",
    "    for idx, token in enumerate(doc):\n",
    "        for can in candidate:\n",
    "            if can in token.text:\n",
    "                return can\n",
    "    if 'name' in sentence.lower() or doc[-1].lemma_ == 'be' or doc[-1].pos_ == 'ADP':\n",
    "        return 'what'\n",
    "    return None"
   ]
  },
  {
   "cell_type": "code",
   "execution_count": 71,
   "metadata": {
    "ExecuteTime": {
     "end_time": "2020-10-06T01:44:21.796853Z",
     "start_time": "2020-10-06T01:44:21.791765Z"
    }
   },
   "outputs": [],
   "source": [
    "from tqdm.notebook import tqdm"
   ]
  },
  {
   "cell_type": "code",
   "execution_count": 75,
   "metadata": {
    "ExecuteTime": {
     "end_time": "2020-10-06T01:50:17.157730Z",
     "start_time": "2020-10-06T01:49:29.270278Z"
    }
   },
   "outputs": [
    {
     "data": {
      "application/vnd.jupyter.widget-view+json": {
       "model_id": "ff6e5af7325149548ba435e8265cbe3e",
       "version_major": 2,
       "version_minor": 0
      },
      "text/plain": [
       "HBox(children=(FloatProgress(value=0.0, max=7405.0), HTML(value='')))"
      ]
     },
     "metadata": {},
     "output_type": "display_data"
    },
    {
     "name": "stdout",
     "output_type": "stream",
     "text": [
      "which ###  Which 1970's film was released first, Charley and the Angel or The Boatniks? ### The Boatniks is a 1970 American comedy film starring Robert Morse, Stefanie Powers, Don Ameche and Phil Silvers.\n",
      "what ### What city was the capital of the Ostrogothic Kingdom and the birth place of Ornella Fiorentini? ### Ravenna (] , also locally ] ; Romagnol: \"Ravèna\" ) is the capital city of the Province of Ravenna\n",
      "who ### Who had more of their English novels turned into Oscar-nominated films, Raja Rao or Pat Conroy? ### Two of his novels, \"The Prince of Tides\" and \"The Great Santini\", were made into Oscar-nominated films.\n",
      "what ### J. Searle Dawley and Ken Annakin were both directors of what? ### Kenneth Cooper \"Ken\" Annakin, OBE (10 August 1914 – 22 April 2009) was a prolific English film director.\n",
      "which ### If the Charhki  Dadri crash was less dangerous than the Tenerife airport disaster, which occured firat?  ### On March 27, 1977, two Boeing 747 passenger jets, KLM Flight 4805 and Pan Am Flight 1736, collided on the runway at Los Rodeos Airport (now Tenerife North Airport)\n",
      "what ### What is the pen name of author Carolyn Janice Cherry, who wrote the Fortress Series? ### Carolyn Janice Cherry (born September 1, 1942), better known by the pen name C. J. Cherryh,\n",
      "what ### What movies has Juno Temple starred in? ### She has appeared in films such as \" Black Mass\", \"The Other Boleyn Girl\", \"Wild Child\", \"Atonement\", \"Maleficent\", \"The Three Musketeers\" and \"The Dark Knight Rises\".\n",
      "what ### The runner-up in The Celebrity Apprentice 2 has written an autobiography titled what? ### \"How I Raised, Folded, Bluffed, Flirted, Cursed, and Won Millions at the World Series of Poker\"\n",
      "what ### McLemore Avenue is to Booker T. & the M.G.s as what road in the city of Westminster in London is to the Beatles? ### This road is best known for the Abbey Road Studios and the 1969 album, \"Abbey Road\", by The Beatles.\n",
      "which ### Which opera has more acts, La jolie fille de Perth or Mitridate, re di Ponto? ### La jolie fille de Perth \"(The Fair Maid of Perth)\" is an opera in four acts\n",
      "\n",
      "when [9, 8, 8, 7, 7, 6, 6, 6, 5, 5]\n",
      "how [13, 9, 9, 7, 7, 7, 6, 6, 6, 5]\n",
      "where [15, 9, 8, 8, 7, 7, 7, 7, 7, 7]\n",
      "which [29, 18, 16, 15, 15, 15, 15, 14, 14, 13]\n",
      "what [26, 19, 19, 18, 16, 16, 15, 14, 14, 13]\n",
      "who [17, 15, 15, 14, 14, 13, 13, 13, 12, 11]\n",
      "how many [6, 5, 5, 5, 5, 4, 4, 4, 4, 4]\n",
      "whose []\n",
      "whom []\n",
      "others [12, 11, 10, 10, 10, 9, 9, 9, 8, 8]\n"
     ]
    }
   ],
   "source": [
    "list_len_span = []\n",
    "list_len_lbl = []\n",
    "list_wh = ['when', 'how', 'where', 'which', 'what', 'who', 'how many', 'whose', 'whom', 'others']\n",
    "dict_wh2list_len = dict()\n",
    "for wh in list_wh:\n",
    "    dict_wh2list_len[wh] = []\n",
    "\n",
    "for _id in tqdm(pred['answer'].keys()):\n",
    "    question = dict_id2query[_id]\n",
    "    wh = findWHword(question)\n",
    "    ans = dict_id2ans[_id]\n",
    "    ans_len = len(ans.split())\n",
    "    if ans_len > 15:\n",
    "        print(wh, \"###\", question, \"###\", ans)\n",
    "    if wh is None:\n",
    "        dict_wh2list_len['others'].append(ans_len)\n",
    "    else:\n",
    "        dict_wh2list_len[wh].append(ans_len)\n",
    "\n",
    "for wh in dict_wh2list_len.keys():\n",
    "    dict_wh2list_len[wh].sort(reverse=True)\n",
    "    print(wh, dict_wh2list_len[wh][0:10])"
   ]
  },
  {
   "cell_type": "code",
   "execution_count": 64,
   "metadata": {
    "ExecuteTime": {
     "end_time": "2020-10-06T01:42:34.503971Z",
     "start_time": "2020-10-06T01:42:34.498340Z"
    }
   },
   "outputs": [
    {
     "data": {
      "text/plain": [
       "False"
      ]
     },
     "execution_count": 64,
     "metadata": {},
     "output_type": "execute_result"
    }
   ],
   "source": [
    "wh is None"
   ]
  },
  {
   "cell_type": "markdown",
   "metadata": {},
   "source": [
    "# Check answers"
   ]
  },
  {
   "cell_type": "code",
   "execution_count": 6,
   "metadata": {
    "ExecuteTime": {
     "end_time": "2020-10-05T04:21:51.726894Z",
     "start_time": "2020-10-05T04:21:51.522988Z"
    }
   },
   "outputs": [
    {
     "name": "stdout",
     "output_type": "stream",
     "text": [
      "9,984 ### 9, 984\n",
      "Robert Erskine Childers DSC ### Robert Erskine Childers\n",
      "1,462 ### 1, 462\n",
      "35,124 ### 35, 124\n",
      "$10.5 million ### $ 10. 5 million\n",
      "right-hand ### right - hand\n",
      "super-regional shopping mall ### super - regional shopping mall\n",
      "Slaughterhouse-Five ### Slaughterhouse - Five\n",
      "3,384,569 ### 3, 384, 569\n",
      "Pakistani ### Pakistan\n",
      "76,416 ### 76, 416\n",
      "728,000 ft² ### 728, 000 ft²\n",
      "51,271 ### 51, 271\n",
      "1.95 m ### 1. 95 m\n",
      "4,613 ### 4, 613\n",
      "The R-8 Human Rhythm Composer ### The R - 8 Human Rhythm Composer\n",
      "Queen In-hyun's Man ### Queen In - hyun's Man\n",
      "Symphony No. 7 ### Symphony No. 1\n",
      "Jean-Loup Jacques Marie Chrétien ### Jean - Loup Jacques Marie Chrétien\n",
      "natural-ingredients-only personal care products ### natural - ingredients - only personal care products\n",
      "Hessians ### Hessian\n",
      "video game ### videogame\n",
      "gull-wing doors ### gull - wing doors\n",
      "1,800 ### 1, 800\n",
      "Regional Rural Bank ### Regional Rural Banks\n",
      "media for the 65.8 million ### media for the 65. 8 million\n",
      "Thomas Warburton ### Tom Warburton\n",
      "26–30 August 1914 ### 26 – 30 August 1914\n",
      "Punjabi/Pashtun ### Punjabi / Pashtun\n",
      "Ulf Dietrich Merbold ### Dr. Ulf Dietrich Merbold\n",
      "2.1 million ### 2. 1 million\n",
      "Boeing EA-18G Growler ### Boeing EA - 18G Growler\n",
      "Twin Pines/Lone Pine Mall ### Twin Pines / Lone Pine Mall\n",
      "\"An All-Colored Vaudeville Show\" ### An All - Colored Vaudeville Show\n",
      "2006 season ### 2007 season\n",
      "great-grandfather ### great - grandfather\n",
      "American-born ### American - born\n",
      "Distaghil Sar ### Disteghil Sar\n",
      "U.S. Bancorp ### U. S. Bancorp\n",
      "Abū Bakr ibn Muḥammad ibn al Ḥusayn al-Karajī ### Abū Bakr ibn Muḥammad ibn al Ḥusayn al - Karajī\n",
      "Paleo-Indians ### Paleo - Indians\n",
      "writer ### writers\n",
      "Peter 'Drago' Sell ### Peter'Drago'Sell\n",
      "John Lennon/Plastic Ono Band ### John Lennon / Plastic Ono Band\n",
      "12,272 ### 12, 272\n",
      "5,042 ### 5, 042\n",
      "massively multiplayer online role-playing video game ### massively multiplayer online role - playing video game\n",
      "English-language ### English - language\n",
      "37,776 ### 37, 776\n",
      "fifth-largest ### fifth - largest\n",
      "Boston, Providence, Hartford, New York City, Philadelphia, Wilmington, Baltimore, and Washington, D.C. ### Boston, Providence, Hartford, New York City, Philadelphia, Wilmington, Baltimore, and Washington, D. C.\n",
      "86,112 ### 86, 112\n",
      "St.George ### St. George\n",
      "county-level ### county - level\n",
      "neuro-orthopaedic ### neuro - orthopaedic\n",
      "143,007 ### 143, 007\n",
      "26,788 ### 26, 788\n",
      "138,535 ### 138, 535\n",
      "Guadalupe \"Lupe\" Ontiveros ### Guadalupe \" Lupe \" Ontive\n",
      "Chick tracts ### Chick tract\n",
      "O.T. Genasis ### O. T. Genasis\n",
      "Hail! Hail! Rock 'n' Roll ### Hail! Hail! Rock'n'Roll\n",
      "Charles Spencer \"Charlie\" Chaplin ### Sir Charles Spencer \" Charlie \" Chaplin\n",
      "47,818 ### 47, 818\n",
      "Critics' Choice Television Award for Best Supporting Actress in a Comedy Series ### Critics'Choice Television Award for Best Supporting Actress in a Comedy Series\n",
      "role-playing game ### role - playing games\n",
      "Saint-Domingue ### Saint - Domingue\n",
      "42.195 ### 42. 195\n",
      "Baden-Württemberg ### Baden - Württemberg\n",
      "1.7 billion ### 1. 7 billion\n",
      "Metro-Goldwyn-Mayer ### Metro - Goldwyn - Mayer\n",
      "US$13 billion ### US $ 13 billion\n",
      "both a lauded intellectual and a controversial public figure ### a lauded intellectual and a controversial public figure\n",
      "sub-Saharan Africa ### sub - Saharan Africa\n",
      "Dirk Werner Nowitzki ### Dirk Werner Nowitz\n",
      "Rafael Souza dos Anjos ### Rafael Souza dos An\n",
      "Johnny D. Bright ### Johnny Bright\n",
      "Girls' Generation ### Girls'Generation\n",
      "1200000 oilbbl/d ### 1200000 oilbbl / d\n",
      "The Ten-Year Lunch ### The Ten - Year Lunch\n",
      "Denmark men's national ice hockey ### Denmark men's national ice hockey team\n",
      "Tennessee–Tombigbee Waterway ### Tennessee – Tombigbee Waterway\n",
      "Tsung-Dao Lee ### Tsung - Dao Lee\n",
      "George Albert Smith ### George Albert Smith Sr.\n",
      "3.9 mi ### 3. 9 mi\n",
      "Kamal al-Din Hasan ibn Ali ibn Hasan al-Farisi ### Kamal al - Din Hasan ibn Ali ibn Hasan al - Farisi\n",
      "support for the establishment of a \"national home for the Jewish people\" in Palestine ### support for the establishment of a \" national home for the Jewish people\n",
      "102,984 ### 102, 984\n",
      "8,648 ### 8, 648\n",
      "1,521 ### 1, 521\n",
      "county-level city ### county - level city\n",
      "opera ### operas\n",
      "Tudor music and English folk-song ### Tudor music and English folk - song\n",
      "European route E 22 ### European route E22\n",
      "250,000 ### 250, 000\n",
      "Kurt Julian Weill ### Kurt Julian Wei\n",
      "writers ### writer\n",
      "5.3 million ### 5. 3 million\n",
      "Song Il-gon ### Song Il - gon\n",
      "4.3 km2 ### 4. 3 km2\n",
      "Camille Saint-Saëns ### Camille Saint - Saëns\n",
      "Gabrielle-Suzanne Barbot de Villeneuve ### Gabrielle - Suzanne Barbot de Villeneuve\n",
      "Livin' la Vida Loca ### Livin'la Vida Loca\n",
      "200,000 ### 200, 000\n",
      "Niger–Congo ### Niger – Congo\n",
      "381.6 days ### 381. 6 days\n",
      "19th-century ### 19th - century\n",
      "Park Yong-gyu ### Park Yong - gyu\n",
      "near Philip Billard Municipal Airport ### Philip Billard Municipal Airport\n",
      "200,167 ### 200, 167\n",
      "European Champion Clubs' Cup ### European Champion Clubs'Cup\n",
      "Daimler-Benz ### Daimler - Benz\n",
      "Savin Yeatman-Eiffel ### Savin Yeatman - Eiffel\n",
      "Richard Poole ### DI Richard Poole\n",
      "11,791 ### 11, 791\n",
      "35,402 ### 35, 402\n",
      "for crafting and voting on legislation ### crafting and voting on legislation\n",
      "U.S. Army ### U. S. Army\n",
      "self-directed work processes ### self - directed work processes\n",
      "Roslyn Castle ### Roslin Castle\n",
      "South Korea ### South Korean\n",
      "7.63×25mm Mauser ### 7. 63×25mm Mauser\n",
      "William Turner Walton ### Sir William Turner Walton\n",
      "Captain B.J. Hunnicutt ### Captain B. J. Hunnicutt\n",
      "writer ### writers\n",
      "singer-songwriter ### singer - songwriter\n",
      "20 March to 1 May 2003 ### March to 1 May 2003\n",
      "3D computer-animated musical fantasy-adventure film ### 3D computer - animated musical fantasy - adventure film\n",
      "1909 Cuban-American Major League Clubs Series ### 1909 Cuban - American Major League Clubs Series\n",
      "more than four and a half million people ### more than four and a half million\n",
      "18.7 miles ### 18. 7 miles\n",
      "Jean-Marie Pfaff ### Jean - Marie Pfaff\n",
      "Wilkes-Barre/Scranton International Airport ### Wilkes - Barre / Scranton International Airport\n",
      "11,163 ### 11, 163\n",
      "27,000 ### 27, 000\n",
      "Israeli-American ### Israeli - American\n",
      "January 1788 ### 1 January 1788\n",
      "35,000 ### 35, 000\n",
      "a prefecture-level city ### prefecture - level city\n",
      "Washington, D.C. ### Washington, D. C.\n",
      "10,000 years ago ### 10, 000 years ago\n",
      "SpongeBob SquarePants 4-D ### SpongeBob SquarePants 4 - D\n",
      "Prussia ### Prussian\n",
      "Pac-12 Conference ### Pac - 12 Conference\n",
      "\"media for the 65.8 million,\" ### media for the 65. 8 million\n",
      "42,972 ### 42, 972\n",
      "Cashin' In ### Cashin'In\n",
      "5,922 ### 5, 922\n",
      "2.3 million pesos ### 2. 3 million pesos\n",
      "9–10 March 1945 ### 9 – 10 March 1945\n",
      "Sarah Kate Silverman ### Sarah Kate Silver\n",
      "Marvel Comics ### Marvel Comic\n",
      "67,575 ### 67, 575\n",
      "321,520 ### 321, 520\n",
      "Wu-Tang Clan ### Wu - Tang Clan\n",
      "Washington, D.C. ### Washington, D. C.\n",
      "Jean-Marc Vallée ### Jean - Marc Vallée\n",
      "Thriller ### Thrillers\n",
      "Airbus A380 ### Airbus A380s\n",
      "Roc-A-Fella Records and Priority Records ### Roc - A - Fella Records and Priority Records\n",
      "pop/soft rock stations ### pop / soft rock stations\n",
      "singer and songwriter ### singer - songwriter\n",
      "Golden Globe for Best Supporting Actress ### 2002 Golden Globe for Best Supporting Actress\n",
      "its riverside location ### riverside location\n",
      "Anglo-Saxon Chronicle ### Anglo - Saxon Chronicle\n",
      "$10,000 Kelly ### $ 10, 000 Kelly\n",
      "by the moods they elicit ### the moods they elicit\n",
      "Lee Seok-hoon ### Lee Seok - hoon\n",
      "Emilia-Romagna Region ### Emilia - Romagna Region\n",
      "Charles Guiteau ### Charles J. Guiteau\n",
      "Rikki Farr's ### Rikki Farr\n",
      "post–World War II ### post – World War II\n",
      "Workers' Party ### Workers'Party\n",
      "10-metre platform event ### 10 - metre platform event\n",
      "15,023 ### 15, 023\n",
      "Pakistan ### Pakistani\n",
      "House of Habsburg-Lorraine ### House of Habsburg - Lorraine\n",
      "Washington, D.C. ### Washington, D. C.\n",
      "United States Secretary of the Interior ### 52nd United States Secretary of the Interior\n",
      "more than 26,000 ### more than 26, 000\n",
      "Pigman's Bar-B-Que ### Pigman's Bar - B - Que\n",
      "fixed-roof ### fixed - roof\n",
      "Anheuser-Busch ### Anheuser - Busch\n",
      "45,698 ### 45, 698\n",
      "Iranian-American ### Iranian - American\n",
      "2,664 ### 2, 664\n",
      "Australian ### Australia\n",
      "lithium-ion battery ### lithium - ion battery\n",
      "4,972 ### 4, 972\n",
      "Vilius Storostas-Vydūnas ### Vilius Storostas - Vydūnas\n",
      "Lithuania ### Lithuanian\n",
      "8,515 ### 8, 515\n",
      "Koninklijke Ahold N.V. ### Koninklijke Ahold N. V.\n",
      "by Larry Eustachy ### Larry Eustachy\n",
      "Appleby-in-Westmorland ### Appleby - in - Westmorland\n",
      "1,289,500 ### 1, 289, 500\n",
      "Yuen Woo-ping ### Yuen Woo - ping\n",
      "December 31, 2015 ### December 31, 2014\n",
      "Shia Saide LaBeouf ### Shia Saide LaBeo\n",
      "Manchester–Boston Regional Airport ### Manchester – Boston Regional Airport\n",
      "War/Dance ### War / Dance\n",
      "6,241 ### 6, 241\n",
      "631,486 ### 631, 486\n",
      "26,000 ### 26, 000\n",
      "Michael Kemp Tippett ### Sir Michael Kemp Tippett\n",
      "Elvis' Christmas Album ### Elvis'Christmas Album\n",
      "Kristen Carroll Wiig ### Kristen Carroll Wii\n",
      "Wild Hearts Can’t Be Broken ### Wild Hearts Can ’ t Be Broken\n",
      "Erich Schmidt-Leichner ### Erich Schmidt - Leichner\n",
      "Park Ye-jin ### Park Ye - jin\n",
      "265,000 ### 265, 000\n",
      "Washington, D.C. ### Washington, D. C.\n",
      "1,382 ### 1, 382\n",
      "fifty-word ### fifty - word\n",
      "Rudolph the Red-Nosed Reindeer ### Rudolph the Red - Nosed Reindeer\n",
      "Section.80 ### Section. 80\n",
      "PlayStation 4 ### PlayStation 3\n",
      "16,825 ### 16, 825\n",
      "Trent Alexander-Arnold ### Trent Alexander - Arnold\n",
      "1994–95 NBA season ### 1994 – 95 NBA season\n",
      "India's first dedicated multi-wavelength space observatory. ### India's first dedicated multi - wavelength space observatory\n",
      "most awarded female act of all-time ### most awarded female act of all - time\n",
      "Stern-Plaza ### Stern - Plaza\n",
      "16,116 ### 16, 116\n",
      "cocktails ### cocktail\n",
      "Economic Cooperation Organisation ### Economic Cooperation Organization\n",
      "Danielle Fernandes Dominique Schuelein-Steel ### Danielle Fernandes Dominique Schuelein - Steel\n",
      "122,067 ### 122, 067\n",
      "Holinshed's Chronicle ### Holinshed's Chronicles\n",
      "pizzas ### pizza\n",
      "Bury, Greater Manchester, England ### Greater Manchester, England\n",
      "689,775 ### 689, 775\n",
      "7.2 million ### 7. 2 million\n",
      "Kim Sung-su ### Kim Sung - su\n",
      "Radio-Activity ### Radio - Activity\n",
      "Fiat Chrysler Automobiles N.V. ### Fiat Chrysler Automobiles N. V.\n",
      "Canadian-American Association of Professional Baseball ### Canadian - American Association of Professional Baseball\n",
      "1,693 ### 1, 693\n",
      "pro-vice-chancellor ### pro - vice - chancellor\n",
      "Washington, D.C. ### Washington, D. C.\n",
      "Pennsylvania's ### Pennsylvania\n",
      "Woodbridge Strong Van Dyke II ### Woodbridge Strong Van Dyke\n",
      "Yoo Seung-ho ### Yoo Seung - ho\n",
      "29,000 ### 29, 000\n",
      "poi, Kalua pig, poke, lomi salmon, opihi, haupia ### poi, Kalua pig, poke, lomi salmon, opihi, haupia and beer\n",
      "Russia ### Russian\n",
      "Dick Smith Super-80 ### Dick Smith Super - 80\n",
      "Lin-Manuel Miranda ### Lin - Manuel Miranda\n",
      "chocolate-colored ### chocolate - colored\n",
      "80,000 years BP ### 80, 000 years BP\n"
     ]
    }
   ],
   "source": [
    "cnt = 0\n",
    "em_cnt = 0\n",
    "for _id in pred['answer'].keys():\n",
    "    lbl = dict_id2ans[_id]\n",
    "    ans = pred['answer'][_id]\n",
    "    if exact_match_score(ans, lbl):\n",
    "        em_cnt += 1\n",
    "    if fuzz.ratio(lbl, ans) >= 90 and not exact_match_score(ans, lbl):\n",
    "        print(lbl, \"###\", ans)\n",
    "        cnt += 1"
   ]
  },
  {
   "cell_type": "code",
   "execution_count": 7,
   "metadata": {
    "ExecuteTime": {
     "end_time": "2020-10-05T04:21:53.241216Z",
     "start_time": "2020-10-05T04:21:53.234755Z"
    }
   },
   "outputs": [
    {
     "data": {
      "text/plain": [
       "250"
      ]
     },
     "execution_count": 7,
     "metadata": {},
     "output_type": "execute_result"
    }
   ],
   "source": [
    "cnt"
   ]
  },
  {
   "cell_type": "code",
   "execution_count": 8,
   "metadata": {
    "ExecuteTime": {
     "end_time": "2020-10-05T04:21:53.584070Z",
     "start_time": "2020-10-05T04:21:53.580777Z"
    }
   },
   "outputs": [
    {
     "data": {
      "text/plain": [
       "0.5665091154625254"
      ]
     },
     "execution_count": 8,
     "metadata": {},
     "output_type": "execute_result"
    }
   ],
   "source": [
    "em_cnt/len(dev)"
   ]
  },
  {
   "cell_type": "code",
   "execution_count": 9,
   "metadata": {
    "ExecuteTime": {
     "end_time": "2020-10-05T04:21:53.859173Z",
     "start_time": "2020-10-05T04:21:53.852936Z"
    }
   },
   "outputs": [
    {
     "data": {
      "text/plain": [
       "0.600270087778528"
      ]
     },
     "execution_count": 9,
     "metadata": {},
     "output_type": "execute_result"
    }
   ],
   "source": [
    "(em_cnt+cnt)/len(dev)"
   ]
  },
  {
   "cell_type": "code",
   "execution_count": 10,
   "metadata": {
    "ExecuteTime": {
     "end_time": "2020-10-05T04:21:54.187737Z",
     "start_time": "2020-10-05T04:21:54.178081Z"
    }
   },
   "outputs": [
    {
     "data": {
      "text/plain": [
       "'Norwood, Massachusetts'"
      ]
     },
     "execution_count": 10,
     "metadata": {},
     "output_type": "execute_result"
    }
   ],
   "source": [
    "lbl"
   ]
  },
  {
   "cell_type": "code",
   "execution_count": 11,
   "metadata": {
    "ExecuteTime": {
     "end_time": "2020-10-05T04:21:54.531114Z",
     "start_time": "2020-10-05T04:21:54.522576Z"
    }
   },
   "outputs": [],
   "source": [
    "cnt = 0\n",
    "for _id in pred['answer'].keys():\n",
    "    lbl = dict_id2ans[_id]\n",
    "    ans = pred['answer'][_id]\n",
    "    if ans == \"\":\n",
    "        cnt += 1"
   ]
  },
  {
   "cell_type": "code",
   "execution_count": 12,
   "metadata": {
    "ExecuteTime": {
     "end_time": "2020-10-05T04:21:55.604561Z",
     "start_time": "2020-10-05T04:21:55.600932Z"
    }
   },
   "outputs": [
    {
     "data": {
      "text/plain": [
       "151"
      ]
     },
     "execution_count": 12,
     "metadata": {},
     "output_type": "execute_result"
    }
   ],
   "source": [
    "cnt"
   ]
  },
  {
   "cell_type": "code",
   "execution_count": 13,
   "metadata": {
    "ExecuteTime": {
     "end_time": "2020-10-05T04:21:55.941205Z",
     "start_time": "2020-10-05T04:21:55.930616Z"
    }
   },
   "outputs": [
    {
     "data": {
      "text/plain": [
       "0.5869007427413909"
      ]
     },
     "execution_count": 13,
     "metadata": {},
     "output_type": "execute_result"
    }
   ],
   "source": [
    "(em_cnt+cnt)/len(dev)"
   ]
  },
  {
   "cell_type": "code",
   "execution_count": 11,
   "metadata": {
    "ExecuteTime": {
     "end_time": "2020-10-06T04:53:10.922934Z",
     "start_time": "2020-10-06T04:53:10.919609Z"
    }
   },
   "outputs": [],
   "source": [
    "with open('preds500.json', 'r') as f:\n",
    "    pred = json.load(f)"
   ]
  },
  {
   "cell_type": "code",
   "execution_count": 12,
   "metadata": {
    "ExecuteTime": {
     "end_time": "2020-10-06T04:53:11.986857Z",
     "start_time": "2020-10-06T04:53:11.983830Z"
    }
   },
   "outputs": [],
   "source": [
    "from termcolor import colored"
   ]
  },
  {
   "cell_type": "code",
   "execution_count": 13,
   "metadata": {
    "ExecuteTime": {
     "end_time": "2020-10-06T04:53:12.342050Z",
     "start_time": "2020-10-06T04:53:12.290750Z"
    }
   },
   "outputs": [
    {
     "name": "stdout",
     "output_type": "stream",
     "text": [
      "Annie Morton ### Terry Richardson ### \u001b[32mTerry Richardson\u001b[0m\n",
      "\n",
      "Henry Roth ### Erskine Childers ### \u001b[32mRobert Erskine Childers DSC\u001b[0m\n",
      "\n",
      "Peter Schmeichel ### Peter Bolesław Schmeichel MBE ### \u001b[32mWorld's Best Goalkeeper\u001b[0m\n",
      "\n",
      "Henry John ### Kaiser Ventures corporation ### \u001b[32mHenry J. Kaiser\u001b[0m\n",
      "\n",
      "Charles Nungesser ### Charles Eugène Jules Marie Nungesser ### \u001b[32mCharles Eugène\u001b[0m\n",
      "\n",
      "forest ### the Firth of Forth ### \u001b[32mYellowcraig\u001b[0m\n",
      "\n",
      "Jerry Glanville ### Jerry Michael Glanville ### \u001b[32mKeith Bostic\u001b[0m\n",
      "\n",
      "point guard ### 5 ### \u001b[32mshortest player ever to play in the National Basketball Association\u001b[0m\n",
      "\n",
      "Strasbourg's metropolitan area ### Alsace ### \u001b[32m276,170 inhabitants\u001b[0m\n",
      "\n",
      "Sela Ann Ward ### What ### \u001b[32mAnn\u001b[0m\n",
      "\n",
      "drafted ### the United States Armed Forces ### \u001b[32mConscription\u001b[0m\n",
      "\n",
      "Monica Samille Lewinsky ### Monica Lewinsky ### \u001b[32mMonica Lewinsky\u001b[0m\n",
      "\n",
      "film editor and director ### English ### \u001b[32mdirector\u001b[0m\n",
      "\n",
      "Coahuila, Mexico. Centered on the town of El Nacimiento in Múzquiz Municipality ### Florida ### \u001b[32mCoahuila, Mexico\u001b[0m\n",
      "\n",
      "1999 ### October 14, 1979 ### \u001b[32m2003\u001b[0m\n",
      "\n",
      "Atlanta ### Historic Grant Field ### \u001b[32mNorth Avenue at Techwood Drive\u001b[0m\n",
      "\n",
      "Leo Eric Varadkar ### Leo Varadkar ### \u001b[32mLeo Varadkar\u001b[0m\n",
      "\n",
      "three ### between approximately 1100 and 1425 AD ### \u001b[32mthree centuries\u001b[0m\n",
      "\n",
      "7 November ### the late 12th Century ### \u001b[32mthe late 12th Century\u001b[0m\n",
      "\n",
      "television ### seasonal ### \u001b[32mseasonal television specials, particularly its work in stop motion animation\u001b[0m\n",
      "\n",
      "Jorge Lozano ### Roberta Vinci ### \u001b[32mRoberta Vinci\u001b[0m\n",
      "\n",
      "##Teach the Controversy ### the Discovery Institute's ### \u001b[32m\"Teach the Controversy\" campaign\u001b[0m\n",
      "\n",
      "Marco Da Silva ### Erika Girardi ### \u001b[32mErika Jayne\u001b[0m\n",
      "\n",
      "1884 ### 2009 ### \u001b[32m2009\u001b[0m\n",
      "\n",
      "##Chattahoochee ### Burn That Bridge\" ### \u001b[32m\"We'll Burn That Bridge\"\u001b[0m\n",
      "\n",
      "Bronwyn Bishop ### Bronwyn Kathleen Bishop ### \u001b[32mKathryn Jean Martin\u001b[0m\n",
      "\n",
      "Las Vegas Valley of Nevada ### Summerlin ### \u001b[32mLas Vegas\u001b[0m\n",
      "\n",
      "Benji Lee ### Chris Lee ### \u001b[32mSean Yseult.\u001b[0m\n",
      "\n",
      "8th and 16th centuries ### into Middle Frisian, spoken from the 16th to the 19th century. ### \u001b[32mbetween the 8th and 16th centuries\u001b[0m\n",
      "\n",
      "no British people ### a citizen of the United Kingdom. ### \u001b[32mAlistair Grant\u001b[0m\n",
      "\n",
      "centre ### Canadian ### \u001b[32mCanadian professional ice hockey centre\u001b[0m\n",
      "\n",
      "Ducks and Beavers ### Oregon Ducks ### \u001b[32mOregon Ducks football\u001b[0m\n",
      "\n",
      "Murray Hill, New Jersey ### Indian ### \u001b[32mMurray Hill\u001b[0m\n",
      "\n",
      "SARS ### Chinese ### \u001b[32msevere acute respiratory syndrome\u001b[0m\n",
      "\n",
      "Barry Magid ### Wendell Berry ### \u001b[32mWendell Berry\u001b[0m\n",
      "\n",
      "Bhushan Patel ### Tinu Suresh Desai ### \u001b[32mTinu Suresh Desai\u001b[0m\n",
      "\n",
      "Golden Valley ### Illinois ### \u001b[32mGolden Valley, Minnesota,\u001b[0m\n",
      "\n",
      "lifetime ### the Cecil B. DeMille Award ### \u001b[32mmultiple awards\u001b[0m\n",
      "\n",
      "Edward Snyder ### \"Black Dragon\" ### \u001b[32mRear Adm. J. Edward Snyder\u001b[0m\n",
      "\n",
      "right-hand batsman ### Wahab Riaz ### \u001b[32mright-hand\u001b[0m\n",
      "\n",
      "Kimmy Schmidt in the Netflix comedy series \"Unbreakable Kimmy Schmidt ### Kimberly Couger \"Kimmy\" Schmidt ### \u001b[32mKimberly Couger \"Kimmy\" Schmidt\u001b[0m\n",
      "\n",
      "##Bottom\" ### \"Bottom\" ### \u001b[32m\"The Comic Strip Presents...\"\u001b[0m\n",
      "\n",
      "nineteenth century ### the U.S. Army ### \u001b[32mnineteenth\u001b[0m\n",
      "\n",
      "Brabejum ### Marsilea ### \u001b[32mMarsilea\u001b[0m\n",
      "\n",
      "Bank of China Tower. The building ### Centre ### \u001b[32mHong Kong\u001b[0m\n",
      "\n",
      "Paige O'Hara ### Donna Paige Helmintoller, ### \u001b[32mDonna Paige Helmintoller\u001b[0m\n",
      "\n",
      "stringed instrument ### Indian ### \u001b[32mstrings\u001b[0m\n",
      "\n",
      "It was the smaller of two stern-wheel paddle steamers based at Opry Mills in Nashville, Tennessee ### Queen ### \u001b[32msuper-regional shopping mall\u001b[0m\n",
      "\n",
      "Alain Resnais ### Scott Sidney (1872 – 20 July 1928), ### \u001b[32mScott Sidney\u001b[0m\n",
      "\n",
      "Asante Traditional Buildings ### Gulangyu ### \u001b[32mGulangyu\u001b[0m\n",
      "\n",
      "east ### Ireland ### \u001b[32mthe east of Ireland\u001b[0m\n",
      "\n",
      "Juliet ### Tybalt ### \u001b[32mTybalt\u001b[0m\n",
      "\n",
      "Laura Osnes ### Laura Ann Osnes ### \u001b[32mLaura Ann Osnes\u001b[0m\n",
      "\n",
      "Lepidozamia ### Eucryphia ### \u001b[32mEucryphia\u001b[0m\n",
      "\n",
      "magazine ### an evangelical Christian periodical that ### \u001b[32mevangelical Christian periodical\u001b[0m\n",
      "\n",
      "racing ### Italian ### \u001b[32mparacyclist\u001b[0m\n",
      "\n",
      "Wycliffe Hall, Oxford ### England ### \u001b[32mThe Dragon School in Oxford\u001b[0m\n",
      "\n",
      "Poleconomy ### a Goat on the Roof ### \u001b[32mHey Pa! There's a Goat on the Roof\u001b[0m\n",
      "\n",
      "architect ### French ### \u001b[32msupervisor of the royal works\u001b[0m\n",
      "\n",
      "Janet Jackson ### Janet Damita ### \u001b[32mJanet Damita Jo Jackson\u001b[0m\n",
      "\n",
      "2034.38 km2 ### the largest and most populated island of the seven Canary Islands. ### \u001b[32mMacaronesia\u001b[0m\n",
      "\n",
      "Bury St Edmunds, Suffolk, England ### a chain of 225 pub-restaurants in England, Wales and Scotland, ### \u001b[32mBury St Edmunds,\u001b[0m\n",
      "\n",
      "subjective ### ages 12–18 ### \u001b[32mearly 20s\u001b[0m\n",
      "\n",
      "John Cameron Fogerty ### Park Mi-yeon (born September 16, 1990), better known by the stage name Serri, ### \u001b[32mSerri\u001b[0m\n",
      "\n",
      "Selle v. Gibb ### Reynolds v. Sims ### \u001b[32m1964\u001b[0m\n",
      "\n",
      "Gerry Adams ### Gerard \"Gerry\" Adams ### \u001b[32mGerard \"Gerry\" Adams\u001b[0m\n",
      "\n",
      "Royal Australian Navy (RAN) is the naval branch of the Australian Defence Force ### The Royal Australian Navy ### \u001b[32mAustralian Defence Force\u001b[0m\n",
      "\n",
      "450,000 ### Bratislava ### \u001b[32mabout 450,000\u001b[0m\n",
      "\n",
      "1995 ### 2009 ### \u001b[32m2009\u001b[0m\n",
      "\n",
      "Edward Franklin Albee ### James Matthew Barrie ### \u001b[32mEdward Franklin Albee III\u001b[0m\n",
      "\n",
      "New York City ### \" ### \u001b[32mmodern-day New York City\u001b[0m\n",
      "\n",
      "Dan Lin ### Warner Animation Group ### \u001b[32mDan Lin, Roy Lee, Phil Lord and Christopher Miller\u001b[0m\n",
      "\n",
      "Buckingham Palace ### monarch ### \u001b[32mreigning monarch of the United Kingdom\u001b[0m\n",
      "\n",
      "Glenn Close ### Phil Collins ### \u001b[32mPhil Collins\u001b[0m\n",
      "\n",
      "Lowe's Companies ### by Lowe's. ### \u001b[32mLowe's\u001b[0m\n",
      "\n",
      "runner-up ### All-American ### \u001b[32mfirst freshman to finish as the runner-up\u001b[0m\n",
      "\n",
      "unofficial ### the Harris County Domed Stadium ### \u001b[32mcomparable to the seven Wonders of the World\u001b[0m\n",
      "\n",
      "horror ### 2005 ### \u001b[32mSouth Korean horror film\u001b[0m\n",
      "\n",
      "Lucas Grabeel ### Lucas Stephen Grabeel ### \u001b[32mLucas Stephen Grabeel\u001b[0m\n",
      "\n",
      "##Rings\". Rings is a 2017 American supernatural psychological horror ### a 2017 American supernatural psychological horror film ### \u001b[32mAmerican supernatural psychological horror film\u001b[0m\n",
      "\n",
      "Sir Peter Reginald Frederick Hall ### Peter Hall ### \u001b[32mPeter Hall\u001b[0m\n",
      "\n",
      "Crawley Town ### Manchester United ### \u001b[32mPremier League club Manchester United and the England national team\u001b[0m\n",
      "\n",
      "Kill Doctor Lucky ### Icehouse Pyramids ### \u001b[32mIcehouse pieces\u001b[0m\n",
      "\n",
      "Gallery ### Dime Magazine ### \u001b[32marose on the \"Playboy\" magazine pattern in the 1970s.\u001b[0m\n",
      "\n",
      "Ian Russell McEwan ### James Mercer Langston Hughes (February 1, 1902 – May 22, 1967) ### \u001b[32mLangston Hughes\u001b[0m\n",
      "\n",
      "Royce da 5'9\" (Bad) and Eminem ### Eminem, Bad Meets Evil, Akon, Christina Aguilera and Taio Cruz. ### \u001b[32mRoyce da 5'9\" (Bad) and Eminem (Evil)\u001b[0m\n",
      "\n",
      "##The Simpsons ### Krusty the Clown ### \u001b[32mThe Itchy & Scratchy Show\u001b[0m\n",
      "\n",
      "Chauncey Billups ### Kevin Garnett ### \u001b[32msigning free agent Chauncey Billups\u001b[0m\n",
      "\n",
      "Kansas ### Tyler Kalinoski ### \u001b[32mlocated in Olathe, Kansas\u001b[0m\n",
      "\n",
      "##1909–1994 ### Lithuanian ### \u001b[32m1909\u001b[0m\n",
      "\n",
      "Phoenix Satellite Television ### Phoenix Television ### \u001b[32mPhoenix Television\u001b[0m\n",
      "\n",
      "\"Peshwa\" ### Bajirao Peshwa ### \u001b[32m\"Peshwa\" (Prime Minister)\u001b[0m\n",
      "\n",
      "Donald John Trump Jr. ### at least five ### \u001b[32mDonald Trump Jr.\u001b[0m\n",
      "\n",
      "Mahbub ul Haq ### Abū ʿAbd Allāh Muḥammad ibn ʿAlī ibn Muḥammad ibnʿArabī al-Ḥātimī [UNK] (Arabic: أبو عبد الله محمد بن علي بن محمد بن عربي الحاتمي [UNK] [UNK] ) [UNK] July 1165 – 16 November 1240), also known ### \u001b[32mibnʿArabī\u001b[0m\n",
      "\n",
      "various deities ### Norse ### \u001b[32mvarious deities, beings, and heroes\u001b[0m\n",
      "\n",
      "dinosaurs never became extinct, the film follows a young \"Apatosaurus ### Arlo, ### \u001b[32mApatosaurus\u001b[0m\n",
      "\n",
      "Battle of Manila ### First Battle of Guam ### \u001b[32mBattle of Guam\u001b[0m\n",
      "\n",
      "film ### Indian ### \u001b[32mdirector\u001b[0m\n",
      "\n",
      "writer ### British ### \u001b[32mauthor\u001b[0m\n",
      "\n",
      "Division I ### 2006 ### \u001b[32mNCAA Division I FBS football\u001b[0m\n",
      "\n",
      "Warner Bros. Records ### by Warner Bros. ### \u001b[32mWarner Bros\u001b[0m\n",
      "\n",
      "33 of the 100 ### 2018 ### \u001b[32m33\u001b[0m\n",
      "\n"
     ]
    }
   ],
   "source": [
    "cnt = 0\n",
    "for k in pred['answer'].keys():\n",
    "    span = pred['answer'][k]\n",
    "    ent = pred['ent'][k]\n",
    "    srl = pred['srl'][k]\n",
    "    lbl = dict_id2ans[k]\n",
    "    if lbl == 'yes' or lbl == 'no':\n",
    "        continue\n",
    "    if exact_match_score(span, lbl):\n",
    "        continue\n",
    "    if not (span.lower() in ent.lower() or ent.lower() in span.lower()):\n",
    "        print(span, \"###\", ent, \"###\", colored(lbl, 'green'))\n",
    "        print(\"\")\n",
    "        cnt += 1\n",
    "        continue\n",
    "    if not (span.lower() in srl.lower() or srl.lower() in span.lower()):\n",
    "        print(span, \"###\", srl, \"###\", colored(lbl, 'green'))\n",
    "        print(\"\")\n",
    "        cnt += 1\n",
    "        continue"
   ]
  },
  {
   "cell_type": "code",
   "execution_count": 38,
   "metadata": {
    "ExecuteTime": {
     "end_time": "2020-10-05T05:41:29.515050Z",
     "start_time": "2020-10-05T05:41:29.509629Z"
    }
   },
   "outputs": [
    {
     "data": {
      "text/plain": [
       "102"
      ]
     },
     "execution_count": 38,
     "metadata": {},
     "output_type": "execute_result"
    }
   ],
   "source": [
    "cnt"
   ]
  },
  {
   "cell_type": "markdown",
   "metadata": {
    "ExecuteTime": {
     "end_time": "2020-10-05T05:04:30.076085Z",
     "start_time": "2020-10-05T05:04:30.070799Z"
    }
   },
   "source": [
    "# Wrong span but correct ent/srl"
   ]
  },
  {
   "cell_type": "code",
   "execution_count": 16,
   "metadata": {
    "ExecuteTime": {
     "end_time": "2020-10-06T04:53:40.212294Z",
     "start_time": "2020-10-06T04:53:40.209583Z"
    }
   },
   "outputs": [],
   "source": [
    "def correct_ans(ans, lbl):\n",
    "    ans = ans.lower()\n",
    "    lbl = lbl.lower()\n",
    "    return ans in lbl or lbl in ans"
   ]
  },
  {
   "cell_type": "code",
   "execution_count": 19,
   "metadata": {
    "ExecuteTime": {
     "end_time": "2020-10-06T04:56:47.213315Z",
     "start_time": "2020-10-06T04:56:47.138558Z"
    }
   },
   "outputs": [
    {
     "name": "stdout",
     "output_type": "stream",
     "text": [
      "5a8c7595554299585d9e36b6 Chief of Protocol of the United States ### ent: the United States ### srl:  as Chief of Protocol of the United States. ### lbl: \u001b[32mChief of Protocol\u001b[0m\n",
      "\n",
      "5a8e3ea95542995a26add48d Greenwich Village ### ent: Greenwich Village ### srl:  an Italian American best-selling author of sixteen books, television writer, film director, and entrepreneur based in Greenwich Village, New York City. ### lbl: \u001b[32mGreenwich Village, New York City\u001b[0m\n",
      "\n",
      "5a87ab905542996e4f3088c1 4,000 capacity (3,677 ### ent: 4,000 ### srl:  a 4,000 capacity (3,677 seated) multi-purpose arena, in Lewiston, Maine, that opened in 1958. ### lbl: \u001b[32m3,677 seated\u001b[0m\n",
      "\n",
      "5a7bbb64554299042af8f7cc Annie Morton ### ent: Terry Richardson ### srl:  Annie Morton (born October 8, 1970) ### lbl: \u001b[32mTerry Richardson\u001b[0m\n",
      "\n",
      "5ab6d09255429954757d337d 1986 to 2013 ### ent: 1986 ### srl:  a Scottish former football manager and player who managed Manchester United from 1986 to 2013. ### lbl: \u001b[32mfrom 1986 to 2013\u001b[0m\n",
      "\n",
      "5a8133725542995ce29dcbdb Henry Roth ### ent: Erskine Childers ### srl:  Robert Erskine Childers DSC (25 June 1870 – 24 November 1922), universally known as Erskine Childers, ### lbl: \u001b[32mRobert Erskine Childers DSC\u001b[0m\n",
      "\n",
      "5ae22b8d554299234fd0440f Peter Schmeichel ### ent: Peter Bolesław Schmeichel MBE ### srl:  the IFFHS World's Best Goalkeeper ### lbl: \u001b[32mWorld's Best Goalkeeper\u001b[0m\n",
      "\n",
      "5a722b8655429971e9dc9329 Lee Hazlewood ### ent: Lee Hazlewood ### srl:  Barton Lee Hazlewood (July ### lbl: \u001b[32mBarton Lee Hazlewood\u001b[0m\n",
      "\n",
      "5ae0361155429925eb1afc2c Charles Nungesser ### ent: Charles Eugène Jules Marie Nungesser ### srl:  Charles Eugène Jules Marie Nungesser, MC (15 March 1892 – presumably on or after 8 May 1927) ### lbl: \u001b[32mCharles Eugène\u001b[0m\n",
      "\n",
      "5a80721b554299485f5985ef World War I ### ent: World War I ### srl:  the fallen of World War I and World War II who ### lbl: \u001b[32mWorld War II\u001b[0m\n",
      "\n",
      "5a74106b55429979e288289e Mumbai, Maharashtra ### ent: Mumbai ### srl:  an Indian multinational information technology (IT) service, consulting and business solutions company Headquartered in Mumbai, Maharashtra. ### lbl: \u001b[32mMumbai\u001b[0m\n",
      "\n",
      "5a7d54165542995f4f402256 forest ### ent: the Firth of Forth ### srl:  Yellowcraig, ### lbl: \u001b[32mYellowcraig\u001b[0m\n",
      "\n",
      "5a8a43eb5542996c9b8d5e82 Marion ### ent: Marion ### srl:  Marion ### lbl: \u001b[32mMarion, South Australia\u001b[0m\n",
      "\n",
      "5a85fb085542994775f606de Shusett ### ent: Shusett ### srl:  Shusett ### lbl: \u001b[32mRonald Shusett\u001b[0m\n",
      "\n",
      "5a7be2595542997c3ec972ac Virginia Woolf ### ent: Adeline Virginia Woolf ### srl:  Adeline Virginia Woolf (née Stephen; 25 January 1882 – 28 March 1941) ### lbl: \u001b[32mAdeline Virginia Woolf\u001b[0m\n",
      "\n",
      "5a8f4c8d554299458435d5a3 70 ### ent: more than 70 ### srl:  operations in more than 70 countries. ### lbl: \u001b[32mmore than 70 countries\u001b[0m\n",
      "\n",
      "5a8979f4554299669944a52e Sela Ann Ward ### ent: Sela Ann Ward ### srl:  What ### lbl: \u001b[32mAnn\u001b[0m\n",
      "\n",
      "5a86ebac55429960ec39b6d6 Mondelez International ### ent: Mondelez International ### srl:  Mondelez International, Inc., styled Mondelēz ( ), ### lbl: \u001b[32mMondelez International, Inc.\u001b[0m\n",
      "\n",
      "5aba5d2e55429901930fa799 Monica Samille Lewinsky ### ent: Monica Lewinsky ### srl:  the stories of seven women who crossed paths with Bill Clinton: Monica Lewinsky, Paula Jones, Gennifer Flowers, Kathleen Willey, Elizabeth Gracen, Juanita Broaddrick, and Sally Perdue. ### lbl: \u001b[32mMonica Lewinsky\u001b[0m\n",
      "\n",
      "5a7759fc5542993569682d60 Tenerife ### ent: Tenerife ### srl:  a national park located in Tenerife (Canary Islands, Spain). ### lbl: \u001b[32mCanary Islands, Spain\u001b[0m\n",
      "\n",
      "5aba749055429901930fa7d8 film editor and director ### ent: English ### srl:  an Armenian-American film editor and director. ### lbl: \u001b[32mdirector\u001b[0m\n",
      "\n",
      "5ae53b545542990ba0bbb23c Paradise, Nevada ### ent: Paradise ### srl:  a hotel and casino located on the Las Vegas Strip in Paradise, Nevada. ### lbl: \u001b[32mLas Vegas Strip in Paradise\u001b[0m\n",
      "\n",
      "5a8e0a005542995085b373a1 IT ### ent: British ### srl:  IT products and services, including storage systems, servers, workstations and data/voice communications equipment and services. ### lbl: \u001b[32mIT products and services\u001b[0m\n",
      "\n",
      "5ac32b565542995ef918c154 Atlanta ### ent: Historic Grant Field ### srl:  the football stadium located at the corner of North Avenue at Techwood Drive on the campus of the Georgia Institute of Technology in Atlanta. ### lbl: \u001b[32mNorth Avenue at Techwood Drive\u001b[0m\n",
      "\n",
      "5abc8d75554299700f9d7900 Leo Eric Varadkar ### ent: Leo Varadkar ### srl:  by Leo Varadkar ### lbl: \u001b[32mLeo Varadkar\u001b[0m\n",
      "\n",
      "5a8b8b3155429949d91db5d7 American business ### ent: American ### srl:  an American business magnate, investor, and philanthropist. ### lbl: \u001b[32mbusiness\u001b[0m\n",
      "\n",
      "5a887bc0554299206df2b2b6 more than 230 ### ent: more than 230 ### srl:  more than 230 tournaments ### lbl: \u001b[32m230\u001b[0m\n",
      "\n",
      "5a83880e554299123d8c214e Marvel Comics ### ent: Marvel Comics ### srl:  on the Marvel Comics character. ### lbl: \u001b[32mMarvel\u001b[0m\n",
      "\n",
      "5abd01205542992ac4f3819b Richmond River ### ent: the Richmond River ### srl:  on the banks of the Richmond River ### lbl: \u001b[32mRichmond\u001b[0m\n",
      "\n",
      "5a7b12a355429927d897bf2a 7 November ### ent: the late 12th Century ### srl:  back to the late 12th Century. ### lbl: \u001b[32mthe late 12th Century\u001b[0m\n",
      "\n",
      "5ac1c6805542994ab5c67e11 television ### ent: seasonal ### srl:  for its seasonal television specials, particularly its work in stop motion animation. ### lbl: \u001b[32mseasonal television specials, particularly its work in stop motion animation\u001b[0m\n",
      "\n",
      "5ae4627d5542991a06ce9a4d Oxford University ### ent: Oxford University ### srl:  Oxford University ### lbl: \u001b[32mOxford\u001b[0m\n",
      "\n",
      "5ac2d1d755429921a00ab053 Jorge Lozano ### ent: Jorge Lozano ### srl:  Roberta Vinci ### lbl: \u001b[32mRoberta Vinci\u001b[0m\n",
      "\n",
      "5ab4e3065542990594ba9cb4 ##Teach the Controversy ### ent: the Discovery Institute's ### srl:  Its \"Teach the Controversy\" campaign ### lbl: \u001b[32m\"Teach the Controversy\" campaign\u001b[0m\n",
      "\n",
      "5a738d27554299623ed4abf3 Marco Da Silva ### ent: Erika Girardi ### srl:  Erika Girardi (born 10 July 1971), known professionally as Erika Jayne, ### lbl: \u001b[32mErika Jayne\u001b[0m\n",
      "\n",
      "5ab2a186554299295394677b 1884 ### ent: 2009 ### srl:  to commemorate the deaths of 329 men from the 66th (Berkshire) Regiment of Foot during the campaign in the Second Anglo-Afghan War in Afghanistan between 1878 and 1880. ### lbl: \u001b[32m2009\u001b[0m\n",
      "\n",
      "5a77c1505542997042120b1b ##Chattahoochee ### ent: Burn That Bridge\" ### srl:  \"We'll Burn That Bridge\" ### lbl: \u001b[32m\"We'll Burn That Bridge\"\u001b[0m\n",
      "\n",
      "5a74ce9655429974ef308c6c Lush ### ent: Lush Ltd. ### srl:  Lush Ltd. ### lbl: \u001b[32mLush Ltd.\u001b[0m\n",
      "\n",
      "5a713a5a5542994082a3e6a9 Manchester United Football Club ### ent: Manchester United Football Club ### srl:  Manchester United Football Club ### lbl: \u001b[32mManchester United\u001b[0m\n",
      "\n",
      "5a8739a05542994775f607ab Brooklyn ### ent: Brooklyn ### srl:  Kenneth P. LaValle (born May 22, 1939 in Brooklyn, New York) ### lbl: \u001b[32mBrooklyn, New York\u001b[0m\n",
      "\n",
      "5a8eea4a5542990e94052bb7 8th and 16th centuries ### ent: the 8th and 16th centuries ### srl:  into Middle Frisian, spoken from the 16th to the 19th century. ### lbl: \u001b[32mbetween the 8th and 16th centuries\u001b[0m\n",
      "\n",
      "5ab2c5e255429916697740ba centre ### ent: Canadian ### srl:  a Canadian professional ice hockey centre who ### lbl: \u001b[32mCanadian professional ice hockey centre\u001b[0m\n",
      "\n",
      "5a7997a2554299029c4b5f59 1939 ### ent: 1939 ### srl:  a Fascist organization active during World War II which held nominal power in Albania from 1939, when the country was conquered by Italy, until 1943, when Italy capitulated to the Allies. ### lbl: \u001b[32m1943\u001b[0m\n",
      "\n",
      "5add673e5542992ae4cec54d Ducks and Beavers ### ent: Oregon Ducks ### srl:  The Ducks and Beavers ### lbl: \u001b[32mOregon Ducks football\u001b[0m\n",
      "\n",
      "5adf65555542992d7e9f9334 Barry Magid ### ent: Wendell Berry ### srl:  by Barry Magid ### lbl: \u001b[32mWendell Berry\u001b[0m\n",
      "\n",
      "5ade69e455429975fa854ec5 Bhushan Patel ### ent: Tinu Suresh Desai ### srl:  by Tinu Suresh Desai ### lbl: \u001b[32mTinu Suresh Desai\u001b[0m\n",
      "\n",
      "5ab47d765542991751b4d78f Michael Graves ### ent: Michael Graves ### srl:  by architect Michael Graves ### lbl: \u001b[32marchitect Michael Graves\u001b[0m\n",
      "\n",
      "5a7a276d5542996c55b2dd27 Charles Hastings Judd ### ent: Charles Hastings Judd ### srl:  Colonel Charles Hastings Judd (September 8, 1835 – April 18, 1890) ### lbl: \u001b[32mColonel Charles Hastings Judd\u001b[0m\n",
      "\n",
      "5ab41d855542996a3a969f4b right-hand batsman ### ent: Wahab Riaz ### srl:  a left-arm fast bowler and a right-hand batsman. ### lbl: \u001b[32mright-hand\u001b[0m\n",
      "\n",
      "5a791a97554299148911f9f2 Kimmy Schmidt in the Netflix comedy series \"Unbreakable Kimmy Schmidt ### ent: Kimmy ### srl:  Kimberly Couger \"Kimmy\" Schmidt ### lbl: \u001b[32mKimberly Couger \"Kimmy\" Schmidt\u001b[0m\n",
      "\n",
      "5ac289ff5542996366519a02 Brabejum ### ent: Marsilea ### srl:  Brabejum ### lbl: \u001b[32mMarsilea\u001b[0m\n",
      "\n",
      "5a73a7c755429978a71e9068 Paige O'Hara ### ent: Paige O'Hara ### srl:  Donna Paige Helmintoller, ### lbl: \u001b[32mDonna Paige Helmintoller\u001b[0m\n",
      "\n",
      "5ac2659b55429963665199a1 25 ### ent: 25 ### srl:  of 25 laps around an Olympic-sized track. ### lbl: \u001b[32m25 laps\u001b[0m\n",
      "\n",
      "5ae4d3c95542990ba0bbb165 Istanbul ### ent: Istanbul ### srl:  in Tophane, a neighborhood in Beyoğlu district of Istanbul, Turkey next to Nusretiye Mosque and Tophane Kiosk at the European waterfront of Bosphorus. ### lbl: \u001b[32mIstanbul, Turkey\u001b[0m\n",
      "\n",
      "5ab7f97a5542991d322237ef It was the smaller of two stern-wheel paddle steamers based at Opry Mills in Nashville, Tennessee ### ent: Queen ### srl:  a super-regional shopping mall ### lbl: \u001b[32msuper-regional shopping mall\u001b[0m\n",
      "\n",
      "5a7b46e55542995eb53be8e5 Ordos ### ent: Ordos City China Science Flying Universe Science and Technology Co., Ltd. ### srl:  a series of Chinese UAVs developed by [ Beijing Sky Universe Digital City Science and Technology Co., Ltd. (Spaceware, [UNK] and some of which are manufactured by its subsidiary Ordos City China Science Flying Universe Science and Technology ### lbl: \u001b[32mOrdos City\u001b[0m\n",
      "\n",
      "5a879ba55542993e715abfc3 Alain Resnais ### ent: Alain Resnais ### srl:  Scott Sidney (1872 – 20 July 1928), ### lbl: \u001b[32mScott Sidney\u001b[0m\n",
      "\n",
      "5ae4563e5542996836b02c7f 600 ### ent: 600 ### srl:  a North American mall retailer with over 600 stores in the United States and Canada. ### lbl: \u001b[32mover 600 stores\u001b[0m\n",
      "\n",
      "5ab1e984554299340b525428 Asante Traditional Buildings ### ent: Gulangyu ### srl:  Asante Traditional Buildings ### lbl: \u001b[32mGulangyu\u001b[0m\n",
      "\n",
      "5ab7da6f55429928e1fe3928 east ### ent: Ireland ### srl:  in the east of Ireland. ### lbl: \u001b[32mthe east of Ireland\u001b[0m\n",
      "\n",
      "5ae6f2a7554299572ea5464a Juliet ### ent: Tybalt ### srl:  Juliet's cousin, Tybalt, ### lbl: \u001b[32mTybalt\u001b[0m\n",
      "\n",
      "5adf9dc3554299025d62a2e6 Laura Osnes ### ent: Laura Ann Osnes ### srl:  Laura Ann Osnes (born November 19, 1985) ### lbl: \u001b[32mLaura Ann Osnes\u001b[0m\n",
      "\n",
      "5ab6369655429953192ad2a1 Lepidozamia ### ent: Eucryphia ### srl:  Eucryphia ### lbl: \u001b[32mEucryphia\u001b[0m\n",
      "\n",
      "5abd1529554299114383a1e3 magazine ### ent: Christianity Today magazine ### srl:  an evangelical Christian periodical that ### lbl: \u001b[32mevangelical Christian periodical\u001b[0m\n",
      "\n",
      "5ae791ef55429952e35ea979 2 February 1940 ### ent: 2 February 1940 ### srl:  Gameel Al-Batouti (Arabic: جميل [UNK] [UNK] ; also rendered \"Gamil El Batouti\" or \"El Batouty\" in U.S. official reports; 2 February 1940 – 31 October 1999) ### lbl: \u001b[32mFebruary\u001b[0m\n",
      "\n",
      "5a8dd5f955429917b4a5bcc7 racing ### ent: Italian ### srl:  an Italian professional racing driver and paracyclist. ### lbl: \u001b[32mparacyclist\u001b[0m\n",
      "\n",
      "5a7555215542996c70cfaee1 Poleconomy ### ent: a Goat on the Roof ### srl:  There's a Goat on the Roof ### lbl: \u001b[32mHey Pa! There's a Goat on the Roof\u001b[0m\n",
      "\n",
      "5a90580655429933b8a204ef 13–3 ### ent: 13 ### srl:  with a record of 13–3, and the NFC West Championship. ### lbl: \u001b[32ma record of 13–3\u001b[0m\n",
      "\n",
      "5a88e605554299206df2b39c 8,211 ### ent: 8,211 ### srl:  8,211 ### lbl: \u001b[32m8,211 at the 2010 census\u001b[0m\n",
      "\n",
      "5add67915542992200553af8 The Crowned Prince ### ent: The Crowned Prince of the Philadelphia Mob ### srl:  The Crowned Prince of the Philadelphia Mob, ### lbl: \u001b[32mThe Crowned Prince of the Philadelphia Mob\u001b[0m\n",
      "\n",
      "5a74684655429929fddd8410 Janet Jackson ### ent: Janet Damita ### srl:  Janet Damita Jo Jackson (born May 16, 1966) ### lbl: \u001b[32mJanet Damita Jo Jackson\u001b[0m\n",
      "\n",
      "5a79c6a55542994bb9457091 Sir George Cayley ### ent: George Cayley ### srl:  Sir George Cayley, 6th Baronet (27 December 1773 – 15 December 1857) ### lbl: \u001b[32mGeorge Cayley\u001b[0m\n",
      "\n",
      "5a7be5bd5542997c3ec972ba Leonberger ### ent: Leonberger ### srl:  The Leonberger ### lbl: \u001b[32mThe Leonberger is a giant dog breed.\u001b[0m\n",
      "\n",
      "5ae1801955429901ffe4aec4 Battle Creek, Michigan, United States ### ent: Michigan ### srl:  an American multinational food manufacturing company headquartered in Battle Creek, Michigan, United States. ### lbl: \u001b[32mBattle Creek, Michigan\u001b[0m\n",
      "\n",
      "5abd0d635542992ac4f381b8 42 days; in 2015, Adele surpassed the record when her album \"25\" took just 29 days ### ent: 42 days ### srl:  just 29 days ### lbl: \u001b[32m29\u001b[0m\n",
      "\n",
      "5a8d93ad554299653c1aa13d John Cameron Fogerty ### ent: John Cameron Fogerty ### srl:  Park Mi-yeon (born September 16, 1990), better known by the stage name Serri, ### lbl: \u001b[32mSerri\u001b[0m\n",
      "\n",
      "5a825bb455429940e5e1a874 Wilmette, Illinois ### ent: Wilmette ### srl:  an American rock band formed in Wilmette, Illinois, a suburb of Chicago, in 2001. ### lbl: \u001b[32mWilmette\u001b[0m\n",
      "\n",
      "5a77cb5e55429967ab1052a7 Kang and Kodos ### ent: Kang ### srl:  Kang and Kodos ### lbl: \u001b[32mKodos\u001b[0m\n",
      "\n",
      "5a7cf29255429909bec768b8 150 million ### ent: 150 million ### srl:  with over 150 million copies sold. ### lbl: \u001b[32m150 million copies\u001b[0m\n",
      "\n",
      "5a8e3dc05542995085b37401 Selle v. Gibb ### ent: Reynolds v. Sims ### srl:  Reynolds v. Sims, 377 U.S. 533 (1964) ### lbl: \u001b[32m1964\u001b[0m\n",
      "\n",
      "5adf34d35542993a75d26425 Gerry Adams ### ent: Gerard \"Gerry\" Adams ### srl:  Gerard \"Gerry\" Adams (Irish: \"Gearóid ### lbl: \u001b[32mGerard \"Gerry\" Adams\u001b[0m\n",
      "\n",
      "5a80ad7c5542992097ad3018 1995 ### ent: 2009 ### srl:  a 2009 American biographical-comedy-crime film ### lbl: \u001b[32m2009\u001b[0m\n",
      "\n",
      "5a78b209554299148911f93e Edward Franklin Albee ### ent: James Matthew Barrie ### srl:  Edward Franklin Albee III ( ; March 12, 1928 – September 16, 2016) ### lbl: \u001b[32mEdward Franklin Albee III\u001b[0m\n",
      "\n",
      "5a7dd9445542997cc2c474ac James Gordon Farrell ### ent: James Gordon Farrell ### srl:  James Gordon Farrell (25 January 1935 – 11 August 1979) ### lbl: \u001b[32mFarrell\u001b[0m\n",
      "\n",
      "5a7b7bed5542997c3ec971bc Buckingham Palace ### ent: Buckingham Palace ### srl:  monarch ### lbl: \u001b[32mreigning monarch of the United Kingdom\u001b[0m\n",
      "\n",
      "5ac02edb554299294b218f41 Glenn Close ### ent: Phil Collins ### srl:  a song by Phil Collins, from the 1999 Disney animated feature \"Tarzan\". ### lbl: \u001b[32mPhil Collins\u001b[0m\n",
      "\n",
      "5adbe1a7554299438c868cc3 Lowe's Companies ### ent: Lowe's ### srl:  by Lowe's. ### lbl: \u001b[32mLowe's\u001b[0m\n",
      "\n",
      "5a8f69b55542997ba9cb324f Lake Valhalla, ### ent: Valhalla ### srl:  Valhalla Highlands Historic District, also known as Lake Valhalla, ### lbl: \u001b[32mValhalla Highlands Historic District\u001b[0m\n",
      "\n",
      "5ab5057b5542991779162d56 horror ### ent: 2005 ### srl:  a 2003 South Korean horror film. ### lbl: \u001b[32mSouth Korean horror film\u001b[0m\n",
      "\n",
      "5a837d9a554299123d8c213e Lucas Grabeel ### ent: Lucas Stephen Grabeel ### srl:  Lucas Stephen Grabeel ### lbl: \u001b[32mLucas Stephen Grabeel\u001b[0m\n",
      "\n",
      "5a81ebee554299676cceb16d ##Rings\". Rings is a 2017 American supernatural psychological horror ### ent: 2017 ### srl:  a 2017 American supernatural psychological horror film ### lbl: \u001b[32mAmerican supernatural psychological horror film\u001b[0m\n",
      "\n",
      "5a8488f45542992a431d1a47 Sir Peter Reginald Frederick Hall ### ent: Peter Hall ### srl:  by Sir Peter Hall ### lbl: \u001b[32mPeter Hall\u001b[0m\n",
      "\n",
      "5a895d305542993b751ca931 Crawley Town ### ent: Manchester United ### srl:  for Crawley Town. ### lbl: \u001b[32mPremier League club Manchester United and the England national team\u001b[0m\n",
      "\n",
      "5a8d02cc554299441c6b9fb6 King George IV and the Duke of Wellington ### ent: George IV ### srl:  by King George IV and the Duke of Wellington, ### lbl: \u001b[32mKing George IV\u001b[0m\n",
      "\n",
      "5abf44025542993fe9a41def Ian Russell McEwan ### ent: Ian Russell McEwan ### srl:  James Mercer Langston Hughes (February 1, 1902 – May 22, 1967) ### lbl: \u001b[32mLangston Hughes\u001b[0m\n",
      "\n",
      "5a90605d5542995651fb514d Royce da 5'9\" (Bad) and Eminem ### ent: Royce da 5 ### srl:  Eminem, Bad Meets Evil, Akon, Christina Aguilera and Taio Cruz. ### lbl: \u001b[32mRoyce da 5'9\" (Bad) and Eminem (Evil)\u001b[0m\n",
      "\n",
      "5ae75a4c5542997b22f6a6f1 ##The Simpsons ### ent: Krusty the Clown ### srl:  \"The Itchy & Scratchy Show\". ### lbl: \u001b[32mThe Itchy & Scratchy Show\u001b[0m\n",
      "\n",
      "5a811152554299260e20a22e Conservative Party ### ent: Conservative Party ### srl:  a British Conservative Party politician who ### lbl: \u001b[32mBritish Conservative Party\u001b[0m\n",
      "\n",
      "5ab78edc5542995dae37e95c Kansas ### ent: Kansas ### srl:  Tyler Kalinoski ### lbl: \u001b[32mlocated in Olathe, Kansas\u001b[0m\n",
      "\n",
      "5aba9e2455429939ce03dd3a ##1909–1994 ### ent: Lithuanian ### srl:  Ann Wigmore (1909–1994) ### lbl: \u001b[32m1909\u001b[0m\n",
      "\n",
      "5abb30755542996cc5e49fd8 41st President ### ent: 41st ### srl:  the 41st President of the United States from 1989 to 1993 and the 43rd Vice President ### lbl: \u001b[32mPresident of the United States\u001b[0m\n",
      "\n",
      "5a78f59755429970f5fffdf7 46 Albert Square ### ent: 46 ### srl:  the fictional address of 46 Albert Square, Walford, London E20. ### lbl: \u001b[32m46 Albert Square, Walford, London E20\u001b[0m\n",
      "\n",
      "5ab6aaff55429953192ad35b Phoenix Satellite Television ### ent: Phoenix Television ### srl:  Phoenix Satellite Television Holdings Ltd or Phoenix Television ### lbl: \u001b[32mPhoenix Television\u001b[0m\n",
      "\n",
      "5a8b78775542997f31a41d3d \"Peshwa\" ### ent: Bajirao Peshwa ### srl:  as \"Peshwa\" (Prime Minister) to ### lbl: \u001b[32m\"Peshwa\" (Prime Minister)\u001b[0m\n",
      "\n",
      "5ae2ee5e5542991a06ce990a Lord Dunmore ### ent: Lord Dunmore ### srl:  to the departure of Royal Governor Lord Dunmore and any remaining vestiges of British power over the Colony of Virginia during the early days of the conflict. ### lbl: \u001b[32mRoyal Governor Lord Dunmore\u001b[0m\n",
      "\n",
      "5a7574e25542996c70cfaf01 Mahbub ul Haq ### ent: Mahbub ul Haq ### srl:  Abū ʿAbd Allāh Muḥammad ibn ʿAlī ibn Muḥammad ibnʿArabī al-Ḥātimī [UNK] (Arabic: أبو عبد الله محمد بن علي بن محمد بن عربي الحاتمي [UNK] [UNK] ) [UNK] July 1165 – 16 November 1240), also known ### lbl: \u001b[32mibnʿArabī\u001b[0m\n",
      "\n",
      "5a7dc2495542997cc2c4749a South Asian Games ### ent: South Asian Games ### srl:  The 1984 South Asian Games (or 1st SAF Games) ### lbl: \u001b[32m1984 South Asian Games\u001b[0m\n",
      "\n",
      "5ae1f596554299234fd04372 1896 ### ent: 1896 ### srl:  The Summer Olympic Games (French: \"Jeux olympiques d'été\" ) or the Games of the Olympiad, first held in 1896, ### lbl: \u001b[32min 1896\u001b[0m\n",
      "\n",
      "5add311b5542994ed6169cc5 dinosaurs never became extinct, the film follows a young \"Apatosaurus ### ent: Arlo, ### srl:  a young \"Apatosaurus\" ### lbl: \u001b[32mApatosaurus\u001b[0m\n",
      "\n",
      "5a71166d5542994082a3e576 Battle of Manila ### ent: First Battle of Guam ### srl:  The Battle of Manila (February 3, 1945 – March 3, 1945) ### lbl: \u001b[32mBattle of Guam\u001b[0m\n",
      "\n",
      "5a81ff62554299676cceb1c4 film ### ent: Indian ### srl:  an Indian film playback singer, director, writer and producer. ### lbl: \u001b[32mdirector\u001b[0m\n",
      "\n",
      "5ae4890a5542995ad6573d60 Executive Search, Board Consulting and Leadership Strategy Services ### ent: Leadership Strategy Services ### srl:  services and expertise in the fields of Executive Search, Board Consulting and Leadership Strategy Services. ### lbl: \u001b[32mExecutive Search, Board Consulting\u001b[0m\n",
      "\n",
      "5ae0f6f5554299422ee99583 Warner Bros. Records ### ent: Warner Bros ### srl:  by Warner Bros. ### lbl: \u001b[32mWarner Bros\u001b[0m\n",
      "\n",
      "5adfeb0555429942ec259b88 four months ### ent: four months ### srl:  to four months in jail ### lbl: \u001b[32mfour months in jail\u001b[0m\n",
      "\n",
      "5ae15e125542990adbacf773 Mississippi University for Women v. Hogan ### ent: Mississippi University for Women v. Hogan ### srl:  Mississippi University for Women v. Hogan, 458 U.S. 718 (1982) ### lbl: \u001b[32mMississippi University for Women\u001b[0m\n",
      "\n"
     ]
    }
   ],
   "source": [
    "cnt = 0\n",
    "for k in pred['answer'].keys():\n",
    "    span = pred['answer'][k]\n",
    "    ent = pred['ent'][k]\n",
    "    srl = pred['srl'][k]\n",
    "    lbl = dict_id2ans[k]\n",
    "    if lbl == 'yes' or lbl == 'no':\n",
    "        continue\n",
    "    if exact_match_score(span, lbl):\n",
    "        continue\n",
    "    if correct_ans(ent, lbl) or correct_ans(srl, lbl):\n",
    "        print(k, span, \"### ent:\", ent,  \"### srl: \", srl, \"### lbl:\", colored(lbl, 'green'))\n",
    "        print(\"\")\n",
    "        cnt += 1\n",
    "        continue"
   ]
  },
  {
   "cell_type": "markdown",
   "metadata": {},
   "source": [
    "# SRL is right but ent is not"
   ]
  },
  {
   "cell_type": "code",
   "execution_count": 20,
   "metadata": {
    "ExecuteTime": {
     "end_time": "2020-10-06T04:58:39.553452Z",
     "start_time": "2020-10-06T04:58:39.523774Z"
    }
   },
   "outputs": [
    {
     "name": "stdout",
     "output_type": "stream",
     "text": [
      "5a8c7595554299585d9e36b6 Chief of Protocol of the United States ### ent: the United States ### srl:  as Chief of Protocol of the United States. ### lbl: \u001b[32mChief of Protocol\u001b[0m\n",
      "\n",
      "5a87ab905542996e4f3088c1 4,000 capacity (3,677 ### ent: 4,000 ### srl:  a 4,000 capacity (3,677 seated) multi-purpose arena, in Lewiston, Maine, that opened in 1958. ### lbl: \u001b[32m3,677 seated\u001b[0m\n",
      "\n",
      "5ae22b8d554299234fd0440f Peter Schmeichel ### ent: Peter Bolesław Schmeichel MBE ### srl:  the IFFHS World's Best Goalkeeper ### lbl: \u001b[32mWorld's Best Goalkeeper\u001b[0m\n",
      "\n",
      "5a7d54165542995f4f402256 forest ### ent: the Firth of Forth ### srl:  Yellowcraig, ### lbl: \u001b[32mYellowcraig\u001b[0m\n",
      "\n",
      "5a7759fc5542993569682d60 Tenerife ### ent: Tenerife ### srl:  a national park located in Tenerife (Canary Islands, Spain). ### lbl: \u001b[32mCanary Islands, Spain\u001b[0m\n",
      "\n",
      "5aba749055429901930fa7d8 film editor and director ### ent: English ### srl:  an Armenian-American film editor and director. ### lbl: \u001b[32mdirector\u001b[0m\n",
      "\n",
      "5a8e0a005542995085b373a1 IT ### ent: British ### srl:  IT products and services, including storage systems, servers, workstations and data/voice communications equipment and services. ### lbl: \u001b[32mIT products and services\u001b[0m\n",
      "\n",
      "5ac32b565542995ef918c154 Atlanta ### ent: Historic Grant Field ### srl:  the football stadium located at the corner of North Avenue at Techwood Drive on the campus of the Georgia Institute of Technology in Atlanta. ### lbl: \u001b[32mNorth Avenue at Techwood Drive\u001b[0m\n",
      "\n",
      "5a8b8b3155429949d91db5d7 American business ### ent: American ### srl:  an American business magnate, investor, and philanthropist. ### lbl: \u001b[32mbusiness\u001b[0m\n",
      "\n",
      "5ac2d1d755429921a00ab053 Jorge Lozano ### ent: Jorge Lozano ### srl:  Roberta Vinci ### lbl: \u001b[32mRoberta Vinci\u001b[0m\n",
      "\n",
      "5ab4e3065542990594ba9cb4 ##Teach the Controversy ### ent: the Discovery Institute's ### srl:  Its \"Teach the Controversy\" campaign ### lbl: \u001b[32m\"Teach the Controversy\" campaign\u001b[0m\n",
      "\n",
      "5a738d27554299623ed4abf3 Marco Da Silva ### ent: Erika Girardi ### srl:  Erika Girardi (born 10 July 1971), known professionally as Erika Jayne, ### lbl: \u001b[32mErika Jayne\u001b[0m\n",
      "\n",
      "5a7997a2554299029c4b5f59 1939 ### ent: 1939 ### srl:  a Fascist organization active during World War II which held nominal power in Albania from 1939, when the country was conquered by Italy, until 1943, when Italy capitulated to the Allies. ### lbl: \u001b[32m1943\u001b[0m\n",
      "\n",
      "5ab41d855542996a3a969f4b right-hand batsman ### ent: Wahab Riaz ### srl:  a left-arm fast bowler and a right-hand batsman. ### lbl: \u001b[32mright-hand\u001b[0m\n",
      "\n",
      "5a73a7c755429978a71e9068 Paige O'Hara ### ent: Paige O'Hara ### srl:  Donna Paige Helmintoller, ### lbl: \u001b[32mDonna Paige Helmintoller\u001b[0m\n",
      "\n",
      "5ab7f97a5542991d322237ef It was the smaller of two stern-wheel paddle steamers based at Opry Mills in Nashville, Tennessee ### ent: Queen ### srl:  a super-regional shopping mall ### lbl: \u001b[32msuper-regional shopping mall\u001b[0m\n",
      "\n",
      "5a879ba55542993e715abfc3 Alain Resnais ### ent: Alain Resnais ### srl:  Scott Sidney (1872 – 20 July 1928), ### lbl: \u001b[32mScott Sidney\u001b[0m\n",
      "\n",
      "5abd1529554299114383a1e3 magazine ### ent: Christianity Today magazine ### srl:  an evangelical Christian periodical that ### lbl: \u001b[32mevangelical Christian periodical\u001b[0m\n",
      "\n",
      "5a8dd5f955429917b4a5bcc7 racing ### ent: Italian ### srl:  an Italian professional racing driver and paracyclist. ### lbl: \u001b[32mparacyclist\u001b[0m\n",
      "\n",
      "5abd0d635542992ac4f381b8 42 days; in 2015, Adele surpassed the record when her album \"25\" took just 29 days ### ent: 42 days ### srl:  just 29 days ### lbl: \u001b[32m29\u001b[0m\n",
      "\n",
      "5a8d93ad554299653c1aa13d John Cameron Fogerty ### ent: John Cameron Fogerty ### srl:  Park Mi-yeon (born September 16, 1990), better known by the stage name Serri, ### lbl: \u001b[32mSerri\u001b[0m\n",
      "\n",
      "5a77cb5e55429967ab1052a7 Kang and Kodos ### ent: Kang ### srl:  Kang and Kodos ### lbl: \u001b[32mKodos\u001b[0m\n",
      "\n",
      "5a8e3dc05542995085b37401 Selle v. Gibb ### ent: Reynolds v. Sims ### srl:  Reynolds v. Sims, 377 U.S. 533 (1964) ### lbl: \u001b[32m1964\u001b[0m\n",
      "\n",
      "5a78b209554299148911f93e Edward Franklin Albee ### ent: James Matthew Barrie ### srl:  Edward Franklin Albee III ( ; March 12, 1928 – September 16, 2016) ### lbl: \u001b[32mEdward Franklin Albee III\u001b[0m\n",
      "\n",
      "5a7b7bed5542997c3ec971bc Buckingham Palace ### ent: Buckingham Palace ### srl:  monarch ### lbl: \u001b[32mreigning monarch of the United Kingdom\u001b[0m\n",
      "\n",
      "5ab5057b5542991779162d56 horror ### ent: 2005 ### srl:  a 2003 South Korean horror film. ### lbl: \u001b[32mSouth Korean horror film\u001b[0m\n",
      "\n",
      "5a81ebee554299676cceb16d ##Rings\". Rings is a 2017 American supernatural psychological horror ### ent: 2017 ### srl:  a 2017 American supernatural psychological horror film ### lbl: \u001b[32mAmerican supernatural psychological horror film\u001b[0m\n",
      "\n",
      "5abf44025542993fe9a41def Ian Russell McEwan ### ent: Ian Russell McEwan ### srl:  James Mercer Langston Hughes (February 1, 1902 – May 22, 1967) ### lbl: \u001b[32mLangston Hughes\u001b[0m\n",
      "\n",
      "5ae75a4c5542997b22f6a6f1 ##The Simpsons ### ent: Krusty the Clown ### srl:  \"The Itchy & Scratchy Show\". ### lbl: \u001b[32mThe Itchy & Scratchy Show\u001b[0m\n",
      "\n",
      "5aba9e2455429939ce03dd3a ##1909–1994 ### ent: Lithuanian ### srl:  Ann Wigmore (1909–1994) ### lbl: \u001b[32m1909\u001b[0m\n",
      "\n",
      "5abb30755542996cc5e49fd8 41st President ### ent: 41st ### srl:  the 41st President of the United States from 1989 to 1993 and the 43rd Vice President ### lbl: \u001b[32mPresident of the United States\u001b[0m\n",
      "\n",
      "5a8b78775542997f31a41d3d \"Peshwa\" ### ent: Bajirao Peshwa ### srl:  as \"Peshwa\" (Prime Minister) to ### lbl: \u001b[32m\"Peshwa\" (Prime Minister)\u001b[0m\n",
      "\n",
      "5a7574e25542996c70cfaf01 Mahbub ul Haq ### ent: Mahbub ul Haq ### srl:  Abū ʿAbd Allāh Muḥammad ibn ʿAlī ibn Muḥammad ibnʿArabī al-Ḥātimī [UNK] (Arabic: أبو عبد الله محمد بن علي بن محمد بن عربي الحاتمي [UNK] [UNK] ) [UNK] July 1165 – 16 November 1240), also known ### lbl: \u001b[32mibnʿArabī\u001b[0m\n",
      "\n",
      "5add311b5542994ed6169cc5 dinosaurs never became extinct, the film follows a young \"Apatosaurus ### ent: Arlo, ### srl:  a young \"Apatosaurus\" ### lbl: \u001b[32mApatosaurus\u001b[0m\n",
      "\n",
      "5a81ff62554299676cceb1c4 film ### ent: Indian ### srl:  an Indian film playback singer, director, writer and producer. ### lbl: \u001b[32mdirector\u001b[0m\n",
      "\n",
      "5ae4890a5542995ad6573d60 Executive Search, Board Consulting and Leadership Strategy Services ### ent: Leadership Strategy Services ### srl:  services and expertise in the fields of Executive Search, Board Consulting and Leadership Strategy Services. ### lbl: \u001b[32mExecutive Search, Board Consulting\u001b[0m\n",
      "\n"
     ]
    }
   ],
   "source": [
    "cnt = 0\n",
    "for k in pred['answer'].keys():\n",
    "    span = pred['answer'][k]\n",
    "    ent = pred['ent'][k]\n",
    "    srl = pred['srl'][k]\n",
    "    lbl = dict_id2ans[k]\n",
    "    if lbl == 'yes' or lbl == 'no':\n",
    "        continue\n",
    "    if exact_match_score(span, lbl):\n",
    "        continue\n",
    "    if (not correct_ans(ent, lbl)) and correct_ans(srl, lbl):\n",
    "        print(k, span, \"### ent:\", ent,  \"### srl: \", srl, \"### lbl:\", colored(lbl, 'green'))\n",
    "        print(\"\")\n",
    "        cnt += 1"
   ]
  },
  {
   "cell_type": "code",
   "execution_count": 21,
   "metadata": {
    "ExecuteTime": {
     "end_time": "2020-10-06T04:58:42.992671Z",
     "start_time": "2020-10-06T04:58:42.988591Z"
    }
   },
   "outputs": [
    {
     "data": {
      "text/plain": [
       "36"
      ]
     },
     "execution_count": 21,
     "metadata": {},
     "output_type": "execute_result"
    }
   ],
   "source": [
    "cnt"
   ]
  },
  {
   "cell_type": "markdown",
   "metadata": {},
   "source": [
    "# ent is right but SRL is not"
   ]
  },
  {
   "cell_type": "code",
   "execution_count": 22,
   "metadata": {
    "ExecuteTime": {
     "end_time": "2020-10-06T04:59:05.214546Z",
     "start_time": "2020-10-06T04:59:05.197203Z"
    }
   },
   "outputs": [
    {
     "name": "stdout",
     "output_type": "stream",
     "text": [
      "5a7bbb64554299042af8f7cc Annie Morton ### ent: Terry Richardson ### srl:  Annie Morton (born October 8, 1970) ### lbl: \u001b[32mTerry Richardson\u001b[0m\n",
      "\n",
      "5a8979f4554299669944a52e Sela Ann Ward ### ent: Sela Ann Ward ### srl:  What ### lbl: \u001b[32mAnn\u001b[0m\n",
      "\n",
      "5ab2a186554299295394677b 1884 ### ent: 2009 ### srl:  to commemorate the deaths of 329 men from the 66th (Berkshire) Regiment of Foot during the campaign in the Second Anglo-Afghan War in Afghanistan between 1878 and 1880. ### lbl: \u001b[32m2009\u001b[0m\n",
      "\n",
      "5a8eea4a5542990e94052bb7 8th and 16th centuries ### ent: the 8th and 16th centuries ### srl:  into Middle Frisian, spoken from the 16th to the 19th century. ### lbl: \u001b[32mbetween the 8th and 16th centuries\u001b[0m\n",
      "\n",
      "5add673e5542992ae4cec54d Ducks and Beavers ### ent: Oregon Ducks ### srl:  The Ducks and Beavers ### lbl: \u001b[32mOregon Ducks football\u001b[0m\n",
      "\n",
      "5adf65555542992d7e9f9334 Barry Magid ### ent: Wendell Berry ### srl:  by Barry Magid ### lbl: \u001b[32mWendell Berry\u001b[0m\n",
      "\n",
      "5ac289ff5542996366519a02 Brabejum ### ent: Marsilea ### srl:  Brabejum ### lbl: \u001b[32mMarsilea\u001b[0m\n",
      "\n",
      "5ab1e984554299340b525428 Asante Traditional Buildings ### ent: Gulangyu ### srl:  Asante Traditional Buildings ### lbl: \u001b[32mGulangyu\u001b[0m\n",
      "\n",
      "5a895d305542993b751ca931 Crawley Town ### ent: Manchester United ### srl:  for Crawley Town. ### lbl: \u001b[32mPremier League club Manchester United and the England national team\u001b[0m\n",
      "\n",
      "5a90605d5542995651fb514d Royce da 5'9\" (Bad) and Eminem ### ent: Royce da 5 ### srl:  Eminem, Bad Meets Evil, Akon, Christina Aguilera and Taio Cruz. ### lbl: \u001b[32mRoyce da 5'9\" (Bad) and Eminem (Evil)\u001b[0m\n",
      "\n",
      "5ab78edc5542995dae37e95c Kansas ### ent: Kansas ### srl:  Tyler Kalinoski ### lbl: \u001b[32mlocated in Olathe, Kansas\u001b[0m\n",
      "\n",
      "5a71166d5542994082a3e576 Battle of Manila ### ent: First Battle of Guam ### srl:  The Battle of Manila (February 3, 1945 – March 3, 1945) ### lbl: \u001b[32mBattle of Guam\u001b[0m\n",
      "\n"
     ]
    }
   ],
   "source": [
    "cnt = 0\n",
    "for k in pred['answer'].keys():\n",
    "    span = pred['answer'][k]\n",
    "    ent = pred['ent'][k]\n",
    "    srl = pred['srl'][k]\n",
    "    lbl = dict_id2ans[k]\n",
    "    if lbl == 'yes' or lbl == 'no':\n",
    "        continue\n",
    "    if exact_match_score(span, lbl):\n",
    "        continue\n",
    "    if (not correct_ans(srl, lbl)) and correct_ans(ent, lbl):\n",
    "        print(k, span, \"### ent:\", ent,  \"### srl: \", srl, \"### lbl:\", colored(lbl, 'green'))\n",
    "        print(\"\")\n",
    "        cnt += 1"
   ]
  },
  {
   "cell_type": "code",
   "execution_count": 23,
   "metadata": {
    "ExecuteTime": {
     "end_time": "2020-10-06T04:59:10.727267Z",
     "start_time": "2020-10-06T04:59:10.724035Z"
    }
   },
   "outputs": [
    {
     "data": {
      "text/plain": [
       "12"
      ]
     },
     "execution_count": 23,
     "metadata": {},
     "output_type": "execute_result"
    }
   ],
   "source": [
    "cnt"
   ]
  },
  {
   "cell_type": "markdown",
   "metadata": {},
   "source": [
    "# entity as answer prediction"
   ]
  },
  {
   "cell_type": "code",
   "execution_count": 25,
   "metadata": {
    "ExecuteTime": {
     "end_time": "2020-10-06T06:23:05.488445Z",
     "start_time": "2020-10-06T06:23:05.481373Z"
    }
   },
   "outputs": [],
   "source": [
    "new_pred = {'answer': dict(), 'sp': dict()}\n",
    "cnt = 0\n",
    "for k in pred['answer'].keys():\n",
    "    span = pred['answer'][k]\n",
    "    ent = pred['ent'][k]\n",
    "    srl = pred['srl'][k]\n",
    "    lbl = dict_id2ans[k]\n",
    "    if ent != \"\":\n",
    "        new_pred['answer'][k] = ent\n",
    "    else:\n",
    "        new_pred['answer'][k] = span"
   ]
  },
  {
   "cell_type": "code",
   "execution_count": 28,
   "metadata": {
    "ExecuteTime": {
     "end_time": "2020-10-06T06:23:52.237848Z",
     "start_time": "2020-10-06T06:23:52.231363Z"
    }
   },
   "outputs": [],
   "source": [
    "with open('entity_ans_pred.json', 'w+') as f:\n",
    "    json.dump(new_pred, f)"
   ]
  },
  {
   "cell_type": "code",
   "execution_count": null,
   "metadata": {},
   "outputs": [],
   "source": []
  }
 ],
 "metadata": {
  "kernelspec": {
   "display_name": "Python 3.7.6 64-bit ('thesis': conda)",
   "language": "python",
   "name": "python37664bitthesiscondab41bf2933e9a4569919959ca0a5b9be5"
  },
  "language_info": {
   "codemirror_mode": {
    "name": "ipython",
    "version": 3
   },
   "file_extension": ".py",
   "mimetype": "text/x-python",
   "name": "python",
   "nbconvert_exporter": "python",
   "pygments_lexer": "ipython3",
   "version": "3.7.6"
  },
  "toc": {
   "base_numbering": 1,
   "nav_menu": {},
   "number_sections": false,
   "sideBar": true,
   "skip_h1_title": false,
   "title_cell": "Table of Contents",
   "title_sidebar": "Contents",
   "toc_cell": false,
   "toc_position": {},
   "toc_section_display": true,
   "toc_window_display": false
  }
 },
 "nbformat": 4,
 "nbformat_minor": 2
}
