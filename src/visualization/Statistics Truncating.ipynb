{
 "cells": [
  {
   "cell_type": "code",
   "execution_count": 1,
   "metadata": {
    "ExecuteTime": {
     "end_time": "2020-08-30T09:10:30.367789Z",
     "start_time": "2020-08-30T09:10:29.431138Z"
    }
   },
   "outputs": [],
   "source": [
    "import os\n",
    "import json\n",
    "import pickle\n",
    "import warnings\n",
    "import re\n",
    "\n",
    "from os import listdir\n",
    "from os.path import isfile, join\n",
    "from dgl.data.utils import load_graphs\n",
    "\n",
    "from tqdm import tqdm, trange\n",
    "\n",
    "import numpy as np\n",
    "import torch\n",
    "import torch.nn as nn\n",
    "import torch.nn.functional as F\n",
    "from transformers import *\n",
    "\n",
    "import dgl.function as fn\n",
    "from dgl.nn.pytorch import edge_softmax, GATConv\n",
    "\n",
    "import dgl\n",
    "from dgl.nn.pytorch.conv import GATConv, RelGraphConv\n",
    "\n",
    "warnings.filterwarnings(action='once')\n",
    "\n",
    "os.environ['DGLBACKEND'] = 'pytorch'\n",
    "\n",
    "import random\n",
    "random_seed = 2020\n",
    "# Set the seed value all over the place to make this reproducible.\n",
    "random.seed(random_seed)\n",
    "np.random.seed(random_seed)\n",
    "torch.manual_seed(random_seed)\n",
    "torch.cuda.manual_seed_all(random_seed)"
   ]
  },
  {
   "cell_type": "code",
   "execution_count": 3,
   "metadata": {
    "ExecuteTime": {
     "end_time": "2020-08-30T09:11:02.251722Z",
     "start_time": "2020-08-30T09:10:57.218707Z"
    }
   },
   "outputs": [],
   "source": [
    "data_path = \"/workspace/ml-workspace/thesis_git/HSGN/data/\"\n",
    "hotpot_qa_path = os.path.join(data_path, \"external\")\n",
    "\n",
    "with open(os.path.join(hotpot_qa_path, \"hotpot_train_v1.1.json\"), \"r\") as f:\n",
    "    hotpot_train = json.load(f)\n",
    "with open(os.path.join(hotpot_qa_path, \"hotpot_dev_distractor_v1.json\"), \"r\") as f:\n",
    "    hotpot_dev = json.load(f)"
   ]
  },
  {
   "cell_type": "code",
   "execution_count": 8,
   "metadata": {
    "ExecuteTime": {
     "end_time": "2020-08-30T09:12:41.931347Z",
     "start_time": "2020-08-30T09:12:41.910898Z"
    }
   },
   "outputs": [],
   "source": [
    "dev_path = os.path.join(data_path, \"processed/dev/heterog_20200830_bottomup/\")\n",
    "dev_tensor_input_ids = torch.load(os.path.join(dev_path, 'tensor_input_ids.p'))"
   ]
  },
  {
   "cell_type": "code",
   "execution_count": 5,
   "metadata": {
    "ExecuteTime": {
     "end_time": "2020-08-30T09:11:07.724647Z",
     "start_time": "2020-08-30T09:11:07.718169Z"
    }
   },
   "outputs": [],
   "source": [
    "pretrained_weights = 'bert-base-cased'"
   ]
  },
  {
   "cell_type": "code",
   "execution_count": 6,
   "metadata": {
    "ExecuteTime": {
     "end_time": "2020-08-30T09:11:23.868364Z",
     "start_time": "2020-08-30T09:11:22.913495Z"
    }
   },
   "outputs": [],
   "source": [
    "tokenizer = BertTokenizer.from_pretrained(pretrained_weights)"
   ]
  },
  {
   "cell_type": "code",
   "execution_count": null,
   "metadata": {},
   "outputs": [],
   "source": [
    "hotpot_train[]"
   ]
  },
  {
   "cell_type": "code",
   "execution_count": 9,
   "metadata": {
    "ExecuteTime": {
     "end_time": "2020-08-30T09:12:57.145243Z",
     "start_time": "2020-08-30T09:12:57.137516Z"
    }
   },
   "outputs": [
    {
     "data": {
      "text/plain": [
       "'yes'"
      ]
     },
     "execution_count": 9,
     "metadata": {},
     "output_type": "execute_result"
    }
   ],
   "source": [
    "hotpot_dev[0]['answer']"
   ]
  },
  {
   "cell_type": "code",
   "execution_count": 24,
   "metadata": {
    "ExecuteTime": {
     "end_time": "2020-08-30T09:18:17.055036Z",
     "start_time": "2020-08-30T09:17:20.424041Z"
    }
   },
   "outputs": [
    {
     "name": "stderr",
     "output_type": "stream",
     "text": [
      "100%|██████████| 40000/40000 [00:56<00:00, 706.43it/s]\n"
     ]
    }
   ],
   "source": [
    "cnt = 0\n",
    "for i in trange(len(tensor_input_ids)):\n",
    "    ans = hotpot_train[i]['answer']\n",
    "    if ans == 'yes' or ans == 'no':\n",
    "        continue\n",
    "    ans = tokenizer.decode(tokenizer.encode(ans, add_special_tokens=False))\n",
    "    if ans not in tokenizer.decode(tensor_input_ids[i]):\n",
    "        cnt += 1"
   ]
  },
  {
   "cell_type": "code",
   "execution_count": 25,
   "metadata": {
    "ExecuteTime": {
     "end_time": "2020-08-30T09:19:33.586331Z",
     "start_time": "2020-08-30T09:19:33.578774Z"
    }
   },
   "outputs": [
    {
     "data": {
      "text/plain": [
       "21"
      ]
     },
     "execution_count": 25,
     "metadata": {},
     "output_type": "execute_result"
    }
   ],
   "source": [
    "cnt"
   ]
  },
  {
   "cell_type": "code",
   "execution_count": 14,
   "metadata": {
    "ExecuteTime": {
     "end_time": "2020-08-30T09:14:53.091513Z",
     "start_time": "2020-08-30T09:14:53.076659Z"
    }
   },
   "outputs": [
    {
     "data": {
      "text/plain": [
       "'[CLS] Norwood, Massachusetts [SEP]'"
      ]
     },
     "execution_count": 14,
     "metadata": {},
     "output_type": "execute_result"
    }
   ],
   "source": [
    "ans"
   ]
  },
  {
   "cell_type": "code",
   "execution_count": 19,
   "metadata": {
    "ExecuteTime": {
     "end_time": "2020-08-30T09:16:04.435966Z",
     "start_time": "2020-08-30T09:16:04.428585Z"
    }
   },
   "outputs": [],
   "source": [
    "ans = tokenizer.decode(tokenizer.encode(\"Norwood, Massachusetts\", add_special_tokens=False))"
   ]
  },
  {
   "cell_type": "code",
   "execution_count": 21,
   "metadata": {
    "ExecuteTime": {
     "end_time": "2020-08-30T09:16:14.692472Z",
     "start_time": "2020-08-30T09:16:14.682936Z"
    }
   },
   "outputs": [
    {
     "data": {
      "text/plain": [
       "True"
      ]
     },
     "execution_count": 21,
     "metadata": {},
     "output_type": "execute_result"
    }
   ],
   "source": [
    "ans in tokenizer.decode(dev_tensor_input_ids[i-1])"
   ]
  },
  {
   "cell_type": "code",
   "execution_count": null,
   "metadata": {},
   "outputs": [],
   "source": []
  }
 ],
 "metadata": {
  "kernelspec": {
   "display_name": "thesis",
   "language": "python",
   "name": "thesis"
  },
  "language_info": {
   "codemirror_mode": {
    "name": "ipython",
    "version": 3
   },
   "file_extension": ".py",
   "mimetype": "text/x-python",
   "name": "python",
   "nbconvert_exporter": "python",
   "pygments_lexer": "ipython3",
   "version": "3.7.7"
  },
  "toc": {
   "base_numbering": 1,
   "nav_menu": {},
   "number_sections": false,
   "sideBar": true,
   "skip_h1_title": false,
   "title_cell": "Table of Contents",
   "title_sidebar": "Contents",
   "toc_cell": false,
   "toc_position": {},
   "toc_section_display": true,
   "toc_window_display": false
  }
 },
 "nbformat": 4,
 "nbformat_minor": 2
}
