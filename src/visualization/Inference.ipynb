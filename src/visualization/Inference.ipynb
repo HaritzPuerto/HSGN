{
 "cells": [
  {
   "cell_type": "code",
   "execution_count": 27,
   "metadata": {
    "ExecuteTime": {
     "end_time": "2020-09-10T02:01:53.280031Z",
     "start_time": "2020-09-10T02:01:53.274644Z"
    }
   },
   "outputs": [],
   "source": [
    "from src.data.preprocess_dataset import create_dataloader\n",
    "from src.models.model import HGNModel, Validation\n",
    "from src.models.document_retrieval import DocumentRetrieval\n",
    "import torch\n",
    "import json\n",
    "import os"
   ]
  },
  {
   "cell_type": "code",
   "execution_count": 28,
   "metadata": {
    "ExecuteTime": {
     "end_time": "2020-09-10T02:01:53.929115Z",
     "start_time": "2020-09-10T02:01:53.659252Z"
    }
   },
   "outputs": [
    {
     "name": "stdout",
     "output_type": "stream",
     "text": [
      "Preprocessing data\n",
      "Loading HotpotQA\n"
     ]
    }
   ],
   "source": [
    "data_path = 'data/'\n",
    "model_path = 'models'\n",
    "\n",
    "print(\"Preprocessing data\")\n",
    "hotpotqa_path = 'external/'\n",
    "print(\"Loading HotpotQA\")\n",
    "#hotpot_dev_distractor_v1\n",
    "with open(os.path.join(data_path, hotpotqa_path, \"hotpot_dev_distractor_v1.json\"), \"r\") as f:\n",
    "    hotpot = json.load(f)\n",
    "hotpot = hotpot"
   ]
  },
  {
   "cell_type": "code",
   "execution_count": null,
   "metadata": {
    "ExecuteTime": {
     "start_time": "2020-09-07T06:07:35.084Z"
    }
   },
   "outputs": [
    {
     "name": "stdout",
     "output_type": "stream",
     "text": [
      "Loading the document retrieval model\n"
     ]
    }
   ],
   "source": [
    "device = 'cuda'\n",
    "doc_retr_model_path = '/workspace/ml-workspace/thesis_git/HSGN/models/doc_retrieval'\n",
    "print(\"Loading the document retrieval model\")\n",
    "doc_retr = DocumentRetrieval(device, doc_retr_model_path)\n",
    "print(\"Computing the relevant documents\")\n",
    "dict_ins2dict_doc2pred = doc_retr.predict_relevant_docs(hotpot)"
   ]
  },
  {
   "cell_type": "code",
   "execution_count": null,
   "metadata": {},
   "outputs": [],
   "source": [
    "# import pickle\n",
    "# with open('dict_ins2dict_doc2pred_top4.p', 'wb') as f:\n",
    "#     pickle.dump(dict_ins2dict_doc2pred, f)"
   ]
  },
  {
   "cell_type": "code",
   "execution_count": 29,
   "metadata": {
    "ExecuteTime": {
     "end_time": "2020-09-10T02:02:08.076711Z",
     "start_time": "2020-09-10T02:02:08.064827Z"
    }
   },
   "outputs": [],
   "source": [
    "import pickle\n",
    "with open('dict_recall2_last.pickle', 'rb') as f:\n",
    "    dict_ins2dict_doc2pred = pickle.load(f)"
   ]
  },
  {
   "cell_type": "code",
   "execution_count": 30,
   "metadata": {
    "ExecuteTime": {
     "end_time": "2020-09-10T02:02:09.039085Z",
     "start_time": "2020-09-10T02:02:09.034012Z"
    }
   },
   "outputs": [],
   "source": [
    "from src.data.graph_creation import Dataset\n",
    "from src.data.preprocessing import NER_stanza\n",
    "from src.data.preprocessing import SRL"
   ]
  },
  {
   "cell_type": "code",
   "execution_count": 31,
   "metadata": {
    "ExecuteTime": {
     "end_time": "2020-09-10T03:40:40.829244Z",
     "start_time": "2020-09-10T02:02:10.624576Z"
    }
   },
   "outputs": [
    {
     "name": "stderr",
     "output_type": "stream",
     "text": [
      "/opt/conda/envs/thesis/lib/python3.7/site-packages/stanza/utils/resources.py:53: ResourceWarning: unclosed file <_io.BufferedReader name='/root/stanza_resources/resources.json'>\n",
      "  data = open(path, 'rb').read()\n",
      "ResourceWarning: Enable tracemalloc to get the object allocation traceback\n",
      "Downloading https://raw.githubusercontent.com/stanfordnlp/stanza-resources/master/resources_1.0.0.json: 120kB [00:00, 2.87MB/s]                    \n",
      "/opt/conda/envs/thesis/lib/python3.7/site-packages/stanza/utils/resources.py:224: ResourceWarning: unclosed file <_io.TextIOWrapper name='/root/stanza_resources/resources.json' mode='r' encoding='UTF-8'>\n",
      "  resources = json.load(open(os.path.join(dir, 'resources.json')))\n",
      "ResourceWarning: Enable tracemalloc to get the object allocation traceback\n",
      "2020-09-10 02:02:11 INFO: Downloading default packages for language: en (English)...\n",
      "/opt/conda/envs/thesis/lib/python3.7/site-packages/stanza/utils/resources.py:53: ResourceWarning: unclosed file <_io.BufferedReader name='/root/stanza_resources/en/default.zip'>\n",
      "  data = open(path, 'rb').read()\n",
      "ResourceWarning: Enable tracemalloc to get the object allocation traceback\n",
      "2020-09-10 02:02:11 INFO: File exists: /root/stanza_resources/en/default.zip.\n",
      "2020-09-10 02:02:17 INFO: Finished downloading models and saved to /root/stanza_resources.\n",
      "2020-09-10 02:02:17 INFO: Loading these models for language: en (English):\n",
      "=========================\n",
      "| Processor | Package   |\n",
      "-------------------------\n",
      "| tokenize  | ewt       |\n",
      "| ner       | ontonotes |\n",
      "=========================\n",
      "\n",
      "2020-09-10 02:02:17 INFO: Use device: gpu\n",
      "2020-09-10 02:02:17 INFO: Loading: tokenize\n",
      "2020-09-10 02:02:17 INFO: Loading: ner\n",
      "2020-09-10 02:02:17 INFO: Done loading processors!\n",
      "100%|██████████| 7405/7405 [03:37<00:00, 33.99it/s]\n",
      "  0%|          | 1/7405 [00:00<18:12,  6.77it/s]"
     ]
    },
    {
     "name": "stdout",
     "output_type": "stream",
     "text": [
      "Extracting named entities\n"
     ]
    },
    {
     "name": "stderr",
     "output_type": "stream",
     "text": [
      "100%|██████████| 7405/7405 [32:03<00:00,  3.85it/s]\n",
      "  0%|          | 2/7405 [00:00<07:51, 15.72it/s]"
     ]
    },
    {
     "name": "stdout",
     "output_type": "stream",
     "text": [
      "Extracting SRL arguments from the query\n"
     ]
    },
    {
     "name": "stderr",
     "output_type": "stream",
     "text": [
      "100%|██████████| 7405/7405 [08:03<00:00, 15.32it/s]\n",
      "  0%|          | 0/7405 [00:00<?, ?it/s]"
     ]
    },
    {
     "name": "stdout",
     "output_type": "stream",
     "text": [
      "Extracting SRL arguments\n"
     ]
    },
    {
     "name": "stderr",
     "output_type": "stream",
     "text": [
      "100%|██████████| 7405/7405 [54:27<00:00,  2.27it/s]  "
     ]
    },
    {
     "name": "stdout",
     "output_type": "stream",
     "text": [
      "Data loaded. Creating graphs\n"
     ]
    },
    {
     "name": "stderr",
     "output_type": "stream",
     "text": [
      "\n"
     ]
    }
   ],
   "source": [
    "ner = NER_stanza()\n",
    "srl = SRL()\n",
    "list_ent_query = ner.extract_named_entities_from_query(hotpot)\n",
    "print(\"Extracting named entities\")\n",
    "list_hotpot_ner = ner.extract_named_entities(hotpot, dict_ins2dict_doc2pred)\n",
    "print(\"Extracting SRL arguments from the query\")\n",
    "dict_ins_query_srl_triples = srl.extract_srl_from_query(hotpot)\n",
    "print(\"Extracting SRL arguments\")\n",
    "dict_ins_doc_sent_srl_triples = srl.extract_srl(hotpot, dict_ins2dict_doc2pred)\n",
    "print(\"Data loaded. Creating graphs\")"
   ]
  },
  {
   "cell_type": "code",
   "execution_count": 32,
   "metadata": {
    "ExecuteTime": {
     "end_time": "2020-09-10T03:40:41.106657Z",
     "start_time": "2020-09-10T03:40:40.830617Z"
    }
   },
   "outputs": [],
   "source": [
    "import pickle\n",
    "with open('list_ent_query_giwon_last.p', 'wb+') as f:\n",
    "    pickle.dump(list_ent_query, f)\n",
    "with open('list_hotpot_ner_giwon_last.p', 'wb+') as f:\n",
    "    pickle.dump(list_hotpot_ner, f)\n",
    "with open('dict_ins_query_srl_triples_giwon_last.p', 'wb+') as f:\n",
    "    pickle.dump(dict_ins_query_srl_triples, f)\n",
    "with open('dict_ins_doc_sent_srl_triples_giwon_last.p', 'wb+') as f:\n",
    "    pickle.dump(dict_ins_doc_sent_srl_triples, f)"
   ]
  },
  {
   "cell_type": "code",
   "execution_count": null,
   "metadata": {
    "ExecuteTime": {
     "end_time": "2020-09-07T06:07:16.819533Z",
     "start_time": "2020-09-07T06:07:11.430Z"
    }
   },
   "outputs": [],
   "source": [
    "# import pickle\n",
    "# with open('list_ent_query_v3.p', 'rb') as f:\n",
    "#     list_ent_query = pickle.load(f)\n",
    "# with open('list_hotpot_ner_v3.p', 'rb') as f:\n",
    "#     list_hotpot_ner = pickle.load(f)\n",
    "# with open('dict_ins_query_srl_triples_v3.p', 'rb') as f:\n",
    "#     dict_ins_query_srl_triples = pickle.load(f)\n",
    "# with open('dict_ins_doc_sent_srl_triples_v3.p', 'rb') as f:\n",
    "#     dict_ins_doc_sent_srl_triples = pickle.load(f)"
   ]
  },
  {
   "cell_type": "code",
   "execution_count": 33,
   "metadata": {
    "ExecuteTime": {
     "end_time": "2020-09-10T03:40:42.114533Z",
     "start_time": "2020-09-10T03:40:41.109978Z"
    }
   },
   "outputs": [],
   "source": [
    "pretrained_weights = 'bert-large-cased-whole-word-masking'\n",
    "train_dataset = Dataset(hotpot, list_hotpot_ner, dict_ins_doc_sent_srl_triples,\n",
    "                            dict_ins_query_srl_triples, list_ent_query, \n",
    "                            dict_ins2dict_doc2pred=dict_ins2dict_doc2pred, batch_size=1,\n",
    "                            pretrained_weights=pretrained_weights)"
   ]
  },
  {
   "cell_type": "code",
   "execution_count": null,
   "metadata": {
    "ExecuteTime": {
     "start_time": "2020-09-10T02:02:38.375Z"
    }
   },
   "outputs": [
    {
     "name": "stderr",
     "output_type": "stream",
     "text": [
      " 82%|████████▏ | 6108/7405 [02:53<00:36, 35.07it/s]"
     ]
    }
   ],
   "source": [
    "(list_graphs,\n",
    "        list_context,\n",
    "        list_span_idx) = train_dataset.create_dataloader()"
   ]
  },
  {
   "cell_type": "code",
   "execution_count": null,
   "metadata": {
    "ExecuteTime": {
     "start_time": "2020-09-10T02:02:43.855Z"
    }
   },
   "outputs": [],
   "source": [
    "list_input_ids = [context['input_ids'] for context in list_context]\n",
    "list_token_type_ids = [context['token_type_ids'] for context in list_context]\n",
    "list_attention_masks = [context['attention_mask'] for context in list_context]\n",
    "\n",
    "tensor_input_ids = torch.tensor(list_input_ids)\n",
    "tensor_token_type_ids = torch.tensor(list_token_type_ids)\n",
    "tensor_attention_masks = torch.tensor(list_attention_masks)"
   ]
  },
  {
   "cell_type": "code",
   "execution_count": null,
   "metadata": {
    "ExecuteTime": {
     "start_time": "2020-09-10T02:02:44.281Z"
    }
   },
   "outputs": [],
   "source": [
    "model = HGNModel.from_pretrained(model_path)\n",
    "model.cuda()"
   ]
  },
  {
   "cell_type": "code",
   "execution_count": null,
   "metadata": {
    "ExecuteTime": {
     "start_time": "2020-09-10T02:02:44.750Z"
    }
   },
   "outputs": [],
   "source": [
    "validation = Validation(model, hotpot, list_graphs,\n",
    "                        tensor_input_ids, tensor_attention_masks,\n",
    "                        tensor_token_type_ids)\n",
    "preds = validation.get_answer_predictions(dict_ins2dict_doc2pred)"
   ]
  },
  {
   "cell_type": "code",
   "execution_count": null,
   "metadata": {
    "ExecuteTime": {
     "start_time": "2020-09-10T02:02:49.963Z"
    }
   },
   "outputs": [],
   "source": [
    "with open('pred_w_giwon_docs_last.json', 'w+') as f:\n",
    "    json.dump(preds, f)"
   ]
  },
  {
   "cell_type": "code",
   "execution_count": null,
   "metadata": {},
   "outputs": [],
   "source": []
  },
  {
   "cell_type": "code",
   "execution_count": null,
   "metadata": {},
   "outputs": [],
   "source": []
  }
 ],
 "metadata": {
  "kernelspec": {
   "display_name": "Python 3.7.6 64-bit ('thesis': conda)",
   "language": "python",
   "name": "python37664bitthesiscondab41bf2933e9a4569919959ca0a5b9be5"
  },
  "language_info": {
   "codemirror_mode": {
    "name": "ipython",
    "version": 3
   },
   "file_extension": ".py",
   "mimetype": "text/x-python",
   "name": "python",
   "nbconvert_exporter": "python",
   "pygments_lexer": "ipython3",
   "version": "3.7.6"
  },
  "toc": {
   "base_numbering": 1,
   "nav_menu": {},
   "number_sections": false,
   "sideBar": true,
   "skip_h1_title": false,
   "title_cell": "Table of Contents",
   "title_sidebar": "Contents",
   "toc_cell": false,
   "toc_position": {},
   "toc_section_display": true,
   "toc_window_display": false
  }
 },
 "nbformat": 4,
 "nbformat_minor": 2
}
