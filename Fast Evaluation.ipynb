{
 "cells": [
  {
   "cell_type": "code",
   "execution_count": 1,
   "metadata": {
    "ExecuteTime": {
     "end_time": "2020-10-17T05:04:24.778844Z",
     "start_time": "2020-10-17T05:04:21.823677Z"
    }
   },
   "outputs": [
    {
     "name": "stderr",
     "output_type": "stream",
     "text": [
      "/opt/conda/envs/thesis/lib/python3.6/importlib/_bootstrap.py:219: ImportWarning: can't resolve package from __spec__ or __package__, falling back on __name__ and __path__\n",
      "  return f(*args, **kwds)\n"
     ]
    }
   ],
   "source": [
    "from src.data.preprocess_dataset import create_dataloader\n",
    "from src.models.model import HGNModel, Validation\n",
    "from src.models.document_retrieval import DocumentRetrieval\n",
    "import torch\n",
    "import json\n",
    "import os"
   ]
  },
  {
   "cell_type": "code",
   "execution_count": 2,
   "metadata": {
    "ExecuteTime": {
     "end_time": "2020-10-17T05:04:25.180971Z",
     "start_time": "2020-10-17T05:04:24.780342Z"
    }
   },
   "outputs": [
    {
     "name": "stdout",
     "output_type": "stream",
     "text": [
      "Preprocessing data\n",
      "Loading HotpotQA\n"
     ]
    }
   ],
   "source": [
    "data_path = 'data/'\n",
    "model_path = 'models'\n",
    "\n",
    "print(\"Preprocessing data\")\n",
    "hotpotqa_path = 'external/'\n",
    "print(\"Loading HotpotQA\")\n",
    "#hotpot_dev_distractor_v1\n",
    "with open(os.path.join(data_path, hotpotqa_path, \"hotpot_dev_distractor_v1.json\"), \"r\") as f:\n",
    "    hotpot = json.load(f)\n",
    "hotpot = hotpot"
   ]
  },
  {
   "cell_type": "code",
   "execution_count": 3,
   "metadata": {
    "ExecuteTime": {
     "end_time": "2020-10-17T05:04:25.189460Z",
     "start_time": "2020-10-17T05:04:25.182956Z"
    }
   },
   "outputs": [],
   "source": [
    "# device = 'cuda'\n",
    "# doc_retr_model_path = 'models/giwon_doc_retrieval/'\n",
    "# print(\"Loading the document retrieval model\")\n",
    "# doc_retr = DocumentRetrieval(device, doc_retr_model_path)\n",
    "# print(\"Computing the relevant documents\")\n",
    "# dict_ins2dict_doc2pred = doc_retr.predict_relevant_docs(hotpot)"
   ]
  },
  {
   "cell_type": "code",
   "execution_count": 4,
   "metadata": {
    "ExecuteTime": {
     "end_time": "2020-10-17T05:04:25.203306Z",
     "start_time": "2020-10-17T05:04:25.190887Z"
    }
   },
   "outputs": [],
   "source": [
    "# with open('data/interim/inference/dict_ins2dict_doc2pred_giwon.json', 'w+') as f:\n",
    "#     json.dump(dict_ins2dict_doc2pred, f)"
   ]
  },
  {
   "cell_type": "code",
   "execution_count": 5,
   "metadata": {
    "ExecuteTime": {
     "end_time": "2020-10-17T05:04:25.237370Z",
     "start_time": "2020-10-17T05:04:25.209234Z"
    }
   },
   "outputs": [],
   "source": [
    "with open('data/interim/inference/dict_ins2dict_doc2pred_giwon.json', 'r') as f:\n",
    "    dict_ins2dict_doc2pred1 = json.load(f)"
   ]
  },
  {
   "cell_type": "code",
   "execution_count": 6,
   "metadata": {
    "ExecuteTime": {
     "end_time": "2020-10-17T05:04:25.267677Z",
     "start_time": "2020-10-17T05:04:25.239069Z"
    }
   },
   "outputs": [],
   "source": [
    "dict_ins2dict_doc2pred = dict()\n",
    "for k, v in dict_ins2dict_doc2pred1.items():\n",
    "    dict_doc2pred = dict()\n",
    "    for kk, vv in v.items():\n",
    "        dict_doc2pred[int(kk)] = vv\n",
    "    dict_ins2dict_doc2pred[int(k)] = dict_doc2pred"
   ]
  },
  {
   "cell_type": "code",
   "execution_count": 7,
   "metadata": {
    "ExecuteTime": {
     "end_time": "2020-10-17T05:04:25.277343Z",
     "start_time": "2020-10-17T05:04:25.269084Z"
    }
   },
   "outputs": [],
   "source": [
    "from src.data.graph_creation import Dataset\n",
    "from src.data.preprocessing import NER_stanza\n",
    "from src.data.preprocessing import SRL"
   ]
  },
  {
   "cell_type": "code",
   "execution_count": 8,
   "metadata": {
    "ExecuteTime": {
     "end_time": "2020-10-17T05:04:25.288624Z",
     "start_time": "2020-10-17T05:04:25.278581Z"
    }
   },
   "outputs": [],
   "source": [
    "# ner = NER_stanza()\n",
    "# srl = SRL()\n",
    "# list_ent_query = ner.extract_named_entities_from_query(hotpot)\n",
    "# print(\"Extracting named entities\")\n",
    "# list_hotpot_ner = ner.extract_named_entities(hotpot, dict_ins2dict_doc2pred)\n",
    "# print(\"Extracting SRL arguments from the query\")\n",
    "# dict_ins_query_srl_triples = srl.extract_srl_from_query(hotpot)\n",
    "# print(\"Extracting SRL arguments\")\n",
    "# dict_ins_doc_sent_srl_triples = srl.extract_srl(hotpot, dict_ins2dict_doc2pred)\n",
    "# print(\"Data loaded. Creating graphs\")"
   ]
  },
  {
   "cell_type": "code",
   "execution_count": 9,
   "metadata": {
    "ExecuteTime": {
     "end_time": "2020-10-17T05:04:25.302665Z",
     "start_time": "2020-10-17T05:04:25.300671Z"
    }
   },
   "outputs": [],
   "source": [
    "# import pickle\n",
    "# with open('data/interim/inference/list_ent_query_giwon.p', 'wb+') as f:\n",
    "#     pickle.dump(list_ent_query, f)\n",
    "# with open('data/interim/inference/list_hotpot_ner_giwon.p', 'wb+') as f:\n",
    "#     pickle.dump(list_hotpot_ner, f)\n",
    "# with open('data/interim/inference/dict_ins_query_srl_triples_giwon.p', 'wb+') as f:\n",
    "#     pickle.dump(dict_ins_query_srl_triples, f)\n",
    "# with open('data/interim/inference/dict_ins_doc_sent_srl_triples_giwon.p', 'wb+') as f:\n",
    "#     pickle.dump(dict_ins_doc_sent_srl_triples, f)"
   ]
  },
  {
   "cell_type": "code",
   "execution_count": 10,
   "metadata": {
    "ExecuteTime": {
     "end_time": "2020-10-17T05:04:25.590834Z",
     "start_time": "2020-10-17T05:04:25.304067Z"
    }
   },
   "outputs": [],
   "source": [
    "import pickle\n",
    "with open('data/interim/inference/list_ent_query_giwon.p', 'rb') as f:\n",
    "    list_ent_query = pickle.load(f)\n",
    "with open('data/interim/inference/list_hotpot_ner_giwon.p', 'rb') as f:\n",
    "    list_hotpot_ner = pickle.load(f)\n",
    "with open('data/interim/inference/dict_ins_query_srl_triples_giwon.p', 'rb') as f:\n",
    "    dict_ins_query_srl_triples = pickle.load(f)\n",
    "with open('data/interim/inference/dict_ins_doc_sent_srl_triples_giwon.p', 'rb') as f:\n",
    "    dict_ins_doc_sent_srl_triples = pickle.load(f)"
   ]
  },
  {
   "cell_type": "code",
   "execution_count": 11,
   "metadata": {
    "ExecuteTime": {
     "end_time": "2020-10-17T05:04:26.532291Z",
     "start_time": "2020-10-17T05:04:25.592072Z"
    }
   },
   "outputs": [],
   "source": [
    "pretrained_weights = 'bert-base-cased'\n",
    "train_dataset = Dataset(hotpot, list_hotpot_ner, dict_ins_doc_sent_srl_triples,\n",
    "                            dict_ins_query_srl_triples, list_ent_query, \n",
    "                            dict_ins2dict_doc2pred=dict_ins2dict_doc2pred, batch_size=1,\n",
    "                            pretrained_weights=pretrained_weights)"
   ]
  },
  {
   "cell_type": "code",
   "execution_count": null,
   "metadata": {},
   "outputs": [],
   "source": []
  },
  {
   "cell_type": "code",
   "execution_count": 12,
   "metadata": {
    "ExecuteTime": {
     "end_time": "2020-10-17T05:08:44.249454Z",
     "start_time": "2020-10-17T05:04:26.533750Z"
    }
   },
   "outputs": [
    {
     "name": "stderr",
     "output_type": "stream",
     "text": [
      "100%|██████████| 7405/7405 [04:00<00:00, 30.83it/s]\n"
     ]
    }
   ],
   "source": [
    "(list_graphs, list_context, list_span_idx) = train_dataset.create_dataloader()"
   ]
  },
  {
   "cell_type": "code",
   "execution_count": 13,
   "metadata": {
    "ExecuteTime": {
     "end_time": "2020-10-17T05:08:44.668414Z",
     "start_time": "2020-10-17T05:08:44.250755Z"
    }
   },
   "outputs": [],
   "source": [
    "list_input_ids = [context['input_ids'] for context in list_context]\n",
    "list_token_type_ids = [context['token_type_ids'] for context in list_context]\n",
    "list_attention_masks = [context['attention_mask'] for context in list_context]\n",
    "\n",
    "tensor_input_ids = torch.tensor(list_input_ids)\n",
    "tensor_token_type_ids = torch.tensor(list_token_type_ids)\n",
    "tensor_attention_masks = torch.tensor(list_attention_masks)"
   ]
  },
  {
   "cell_type": "code",
   "execution_count": 14,
   "metadata": {
    "ExecuteTime": {
     "end_time": "2020-10-17T05:08:44.681767Z",
     "start_time": "2020-10-17T05:08:44.669728Z"
    }
   },
   "outputs": [],
   "source": [
    "from src.models.model import HGNModel, Validation"
   ]
  },
  {
   "cell_type": "code",
   "execution_count": 15,
   "metadata": {
    "ExecuteTime": {
     "end_time": "2020-10-17T05:08:48.158029Z",
     "start_time": "2020-10-17T05:08:44.685697Z"
    }
   },
   "outputs": [
    {
     "name": "stderr",
     "output_type": "stream",
     "text": [
      "/opt/conda/envs/thesis/lib/python3.6/site-packages/torch/nn/modules/rnn.py:60: UserWarning: dropout option adds dropout after all but last recurrent layer, so non-zero dropout expects num_layers greater than 1, but got dropout=0.2 and num_layers=1\n",
      "  \"num_layers={}\".format(dropout, num_layers))\n"
     ]
    },
    {
     "data": {
      "text/plain": [
       "HGNModel(\n",
       "  (bert): BertModel(\n",
       "    (embeddings): BertEmbeddings(\n",
       "      (word_embeddings): Embedding(28996, 768, padding_idx=0)\n",
       "      (position_embeddings): Embedding(512, 768)\n",
       "      (token_type_embeddings): Embedding(2, 768)\n",
       "      (LayerNorm): LayerNorm((768,), eps=1e-12, elementwise_affine=True)\n",
       "      (dropout): Dropout(p=0.1, inplace=False)\n",
       "    )\n",
       "    (encoder): BertEncoder(\n",
       "      (layer): ModuleList(\n",
       "        (0): BertLayer(\n",
       "          (attention): BertAttention(\n",
       "            (self): BertSelfAttention(\n",
       "              (query): Linear(in_features=768, out_features=768, bias=True)\n",
       "              (key): Linear(in_features=768, out_features=768, bias=True)\n",
       "              (value): Linear(in_features=768, out_features=768, bias=True)\n",
       "              (dropout): Dropout(p=0.1, inplace=False)\n",
       "            )\n",
       "            (output): BertSelfOutput(\n",
       "              (dense): Linear(in_features=768, out_features=768, bias=True)\n",
       "              (LayerNorm): LayerNorm((768,), eps=1e-12, elementwise_affine=True)\n",
       "              (dropout): Dropout(p=0.1, inplace=False)\n",
       "            )\n",
       "          )\n",
       "          (intermediate): BertIntermediate(\n",
       "            (dense): Linear(in_features=768, out_features=3072, bias=True)\n",
       "          )\n",
       "          (output): BertOutput(\n",
       "            (dense): Linear(in_features=3072, out_features=768, bias=True)\n",
       "            (LayerNorm): LayerNorm((768,), eps=1e-12, elementwise_affine=True)\n",
       "            (dropout): Dropout(p=0.1, inplace=False)\n",
       "          )\n",
       "        )\n",
       "        (1): BertLayer(\n",
       "          (attention): BertAttention(\n",
       "            (self): BertSelfAttention(\n",
       "              (query): Linear(in_features=768, out_features=768, bias=True)\n",
       "              (key): Linear(in_features=768, out_features=768, bias=True)\n",
       "              (value): Linear(in_features=768, out_features=768, bias=True)\n",
       "              (dropout): Dropout(p=0.1, inplace=False)\n",
       "            )\n",
       "            (output): BertSelfOutput(\n",
       "              (dense): Linear(in_features=768, out_features=768, bias=True)\n",
       "              (LayerNorm): LayerNorm((768,), eps=1e-12, elementwise_affine=True)\n",
       "              (dropout): Dropout(p=0.1, inplace=False)\n",
       "            )\n",
       "          )\n",
       "          (intermediate): BertIntermediate(\n",
       "            (dense): Linear(in_features=768, out_features=3072, bias=True)\n",
       "          )\n",
       "          (output): BertOutput(\n",
       "            (dense): Linear(in_features=3072, out_features=768, bias=True)\n",
       "            (LayerNorm): LayerNorm((768,), eps=1e-12, elementwise_affine=True)\n",
       "            (dropout): Dropout(p=0.1, inplace=False)\n",
       "          )\n",
       "        )\n",
       "        (2): BertLayer(\n",
       "          (attention): BertAttention(\n",
       "            (self): BertSelfAttention(\n",
       "              (query): Linear(in_features=768, out_features=768, bias=True)\n",
       "              (key): Linear(in_features=768, out_features=768, bias=True)\n",
       "              (value): Linear(in_features=768, out_features=768, bias=True)\n",
       "              (dropout): Dropout(p=0.1, inplace=False)\n",
       "            )\n",
       "            (output): BertSelfOutput(\n",
       "              (dense): Linear(in_features=768, out_features=768, bias=True)\n",
       "              (LayerNorm): LayerNorm((768,), eps=1e-12, elementwise_affine=True)\n",
       "              (dropout): Dropout(p=0.1, inplace=False)\n",
       "            )\n",
       "          )\n",
       "          (intermediate): BertIntermediate(\n",
       "            (dense): Linear(in_features=768, out_features=3072, bias=True)\n",
       "          )\n",
       "          (output): BertOutput(\n",
       "            (dense): Linear(in_features=3072, out_features=768, bias=True)\n",
       "            (LayerNorm): LayerNorm((768,), eps=1e-12, elementwise_affine=True)\n",
       "            (dropout): Dropout(p=0.1, inplace=False)\n",
       "          )\n",
       "        )\n",
       "        (3): BertLayer(\n",
       "          (attention): BertAttention(\n",
       "            (self): BertSelfAttention(\n",
       "              (query): Linear(in_features=768, out_features=768, bias=True)\n",
       "              (key): Linear(in_features=768, out_features=768, bias=True)\n",
       "              (value): Linear(in_features=768, out_features=768, bias=True)\n",
       "              (dropout): Dropout(p=0.1, inplace=False)\n",
       "            )\n",
       "            (output): BertSelfOutput(\n",
       "              (dense): Linear(in_features=768, out_features=768, bias=True)\n",
       "              (LayerNorm): LayerNorm((768,), eps=1e-12, elementwise_affine=True)\n",
       "              (dropout): Dropout(p=0.1, inplace=False)\n",
       "            )\n",
       "          )\n",
       "          (intermediate): BertIntermediate(\n",
       "            (dense): Linear(in_features=768, out_features=3072, bias=True)\n",
       "          )\n",
       "          (output): BertOutput(\n",
       "            (dense): Linear(in_features=3072, out_features=768, bias=True)\n",
       "            (LayerNorm): LayerNorm((768,), eps=1e-12, elementwise_affine=True)\n",
       "            (dropout): Dropout(p=0.1, inplace=False)\n",
       "          )\n",
       "        )\n",
       "        (4): BertLayer(\n",
       "          (attention): BertAttention(\n",
       "            (self): BertSelfAttention(\n",
       "              (query): Linear(in_features=768, out_features=768, bias=True)\n",
       "              (key): Linear(in_features=768, out_features=768, bias=True)\n",
       "              (value): Linear(in_features=768, out_features=768, bias=True)\n",
       "              (dropout): Dropout(p=0.1, inplace=False)\n",
       "            )\n",
       "            (output): BertSelfOutput(\n",
       "              (dense): Linear(in_features=768, out_features=768, bias=True)\n",
       "              (LayerNorm): LayerNorm((768,), eps=1e-12, elementwise_affine=True)\n",
       "              (dropout): Dropout(p=0.1, inplace=False)\n",
       "            )\n",
       "          )\n",
       "          (intermediate): BertIntermediate(\n",
       "            (dense): Linear(in_features=768, out_features=3072, bias=True)\n",
       "          )\n",
       "          (output): BertOutput(\n",
       "            (dense): Linear(in_features=3072, out_features=768, bias=True)\n",
       "            (LayerNorm): LayerNorm((768,), eps=1e-12, elementwise_affine=True)\n",
       "            (dropout): Dropout(p=0.1, inplace=False)\n",
       "          )\n",
       "        )\n",
       "        (5): BertLayer(\n",
       "          (attention): BertAttention(\n",
       "            (self): BertSelfAttention(\n",
       "              (query): Linear(in_features=768, out_features=768, bias=True)\n",
       "              (key): Linear(in_features=768, out_features=768, bias=True)\n",
       "              (value): Linear(in_features=768, out_features=768, bias=True)\n",
       "              (dropout): Dropout(p=0.1, inplace=False)\n",
       "            )\n",
       "            (output): BertSelfOutput(\n",
       "              (dense): Linear(in_features=768, out_features=768, bias=True)\n",
       "              (LayerNorm): LayerNorm((768,), eps=1e-12, elementwise_affine=True)\n",
       "              (dropout): Dropout(p=0.1, inplace=False)\n",
       "            )\n",
       "          )\n",
       "          (intermediate): BertIntermediate(\n",
       "            (dense): Linear(in_features=768, out_features=3072, bias=True)\n",
       "          )\n",
       "          (output): BertOutput(\n",
       "            (dense): Linear(in_features=3072, out_features=768, bias=True)\n",
       "            (LayerNorm): LayerNorm((768,), eps=1e-12, elementwise_affine=True)\n",
       "            (dropout): Dropout(p=0.1, inplace=False)\n",
       "          )\n",
       "        )\n",
       "        (6): BertLayer(\n",
       "          (attention): BertAttention(\n",
       "            (self): BertSelfAttention(\n",
       "              (query): Linear(in_features=768, out_features=768, bias=True)\n",
       "              (key): Linear(in_features=768, out_features=768, bias=True)\n",
       "              (value): Linear(in_features=768, out_features=768, bias=True)\n",
       "              (dropout): Dropout(p=0.1, inplace=False)\n",
       "            )\n",
       "            (output): BertSelfOutput(\n",
       "              (dense): Linear(in_features=768, out_features=768, bias=True)\n",
       "              (LayerNorm): LayerNorm((768,), eps=1e-12, elementwise_affine=True)\n",
       "              (dropout): Dropout(p=0.1, inplace=False)\n",
       "            )\n",
       "          )\n",
       "          (intermediate): BertIntermediate(\n",
       "            (dense): Linear(in_features=768, out_features=3072, bias=True)\n",
       "          )\n",
       "          (output): BertOutput(\n",
       "            (dense): Linear(in_features=3072, out_features=768, bias=True)\n",
       "            (LayerNorm): LayerNorm((768,), eps=1e-12, elementwise_affine=True)\n",
       "            (dropout): Dropout(p=0.1, inplace=False)\n",
       "          )\n",
       "        )\n",
       "        (7): BertLayer(\n",
       "          (attention): BertAttention(\n",
       "            (self): BertSelfAttention(\n",
       "              (query): Linear(in_features=768, out_features=768, bias=True)\n",
       "              (key): Linear(in_features=768, out_features=768, bias=True)\n",
       "              (value): Linear(in_features=768, out_features=768, bias=True)\n",
       "              (dropout): Dropout(p=0.1, inplace=False)\n",
       "            )\n",
       "            (output): BertSelfOutput(\n",
       "              (dense): Linear(in_features=768, out_features=768, bias=True)\n",
       "              (LayerNorm): LayerNorm((768,), eps=1e-12, elementwise_affine=True)\n",
       "              (dropout): Dropout(p=0.1, inplace=False)\n",
       "            )\n",
       "          )\n",
       "          (intermediate): BertIntermediate(\n",
       "            (dense): Linear(in_features=768, out_features=3072, bias=True)\n",
       "          )\n",
       "          (output): BertOutput(\n",
       "            (dense): Linear(in_features=3072, out_features=768, bias=True)\n",
       "            (LayerNorm): LayerNorm((768,), eps=1e-12, elementwise_affine=True)\n",
       "            (dropout): Dropout(p=0.1, inplace=False)\n",
       "          )\n",
       "        )\n",
       "        (8): BertLayer(\n",
       "          (attention): BertAttention(\n",
       "            (self): BertSelfAttention(\n",
       "              (query): Linear(in_features=768, out_features=768, bias=True)\n",
       "              (key): Linear(in_features=768, out_features=768, bias=True)\n",
       "              (value): Linear(in_features=768, out_features=768, bias=True)\n",
       "              (dropout): Dropout(p=0.1, inplace=False)\n",
       "            )\n",
       "            (output): BertSelfOutput(\n",
       "              (dense): Linear(in_features=768, out_features=768, bias=True)\n",
       "              (LayerNorm): LayerNorm((768,), eps=1e-12, elementwise_affine=True)\n",
       "              (dropout): Dropout(p=0.1, inplace=False)\n",
       "            )\n",
       "          )\n",
       "          (intermediate): BertIntermediate(\n",
       "            (dense): Linear(in_features=768, out_features=3072, bias=True)\n",
       "          )\n",
       "          (output): BertOutput(\n",
       "            (dense): Linear(in_features=3072, out_features=768, bias=True)\n",
       "            (LayerNorm): LayerNorm((768,), eps=1e-12, elementwise_affine=True)\n",
       "            (dropout): Dropout(p=0.1, inplace=False)\n",
       "          )\n",
       "        )\n",
       "        (9): BertLayer(\n",
       "          (attention): BertAttention(\n",
       "            (self): BertSelfAttention(\n",
       "              (query): Linear(in_features=768, out_features=768, bias=True)\n",
       "              (key): Linear(in_features=768, out_features=768, bias=True)\n",
       "              (value): Linear(in_features=768, out_features=768, bias=True)\n",
       "              (dropout): Dropout(p=0.1, inplace=False)\n",
       "            )\n",
       "            (output): BertSelfOutput(\n",
       "              (dense): Linear(in_features=768, out_features=768, bias=True)\n",
       "              (LayerNorm): LayerNorm((768,), eps=1e-12, elementwise_affine=True)\n",
       "              (dropout): Dropout(p=0.1, inplace=False)\n",
       "            )\n",
       "          )\n",
       "          (intermediate): BertIntermediate(\n",
       "            (dense): Linear(in_features=768, out_features=3072, bias=True)\n",
       "          )\n",
       "          (output): BertOutput(\n",
       "            (dense): Linear(in_features=3072, out_features=768, bias=True)\n",
       "            (LayerNorm): LayerNorm((768,), eps=1e-12, elementwise_affine=True)\n",
       "            (dropout): Dropout(p=0.1, inplace=False)\n",
       "          )\n",
       "        )\n",
       "        (10): BertLayer(\n",
       "          (attention): BertAttention(\n",
       "            (self): BertSelfAttention(\n",
       "              (query): Linear(in_features=768, out_features=768, bias=True)\n",
       "              (key): Linear(in_features=768, out_features=768, bias=True)\n",
       "              (value): Linear(in_features=768, out_features=768, bias=True)\n",
       "              (dropout): Dropout(p=0.1, inplace=False)\n",
       "            )\n",
       "            (output): BertSelfOutput(\n",
       "              (dense): Linear(in_features=768, out_features=768, bias=True)\n",
       "              (LayerNorm): LayerNorm((768,), eps=1e-12, elementwise_affine=True)\n",
       "              (dropout): Dropout(p=0.1, inplace=False)\n",
       "            )\n",
       "          )\n",
       "          (intermediate): BertIntermediate(\n",
       "            (dense): Linear(in_features=768, out_features=3072, bias=True)\n",
       "          )\n",
       "          (output): BertOutput(\n",
       "            (dense): Linear(in_features=3072, out_features=768, bias=True)\n",
       "            (LayerNorm): LayerNorm((768,), eps=1e-12, elementwise_affine=True)\n",
       "            (dropout): Dropout(p=0.1, inplace=False)\n",
       "          )\n",
       "        )\n",
       "        (11): BertLayer(\n",
       "          (attention): BertAttention(\n",
       "            (self): BertSelfAttention(\n",
       "              (query): Linear(in_features=768, out_features=768, bias=True)\n",
       "              (key): Linear(in_features=768, out_features=768, bias=True)\n",
       "              (value): Linear(in_features=768, out_features=768, bias=True)\n",
       "              (dropout): Dropout(p=0.1, inplace=False)\n",
       "            )\n",
       "            (output): BertSelfOutput(\n",
       "              (dense): Linear(in_features=768, out_features=768, bias=True)\n",
       "              (LayerNorm): LayerNorm((768,), eps=1e-12, elementwise_affine=True)\n",
       "              (dropout): Dropout(p=0.1, inplace=False)\n",
       "            )\n",
       "          )\n",
       "          (intermediate): BertIntermediate(\n",
       "            (dense): Linear(in_features=768, out_features=3072, bias=True)\n",
       "          )\n",
       "          (output): BertOutput(\n",
       "            (dense): Linear(in_features=3072, out_features=768, bias=True)\n",
       "            (LayerNorm): LayerNorm((768,), eps=1e-12, elementwise_affine=True)\n",
       "            (dropout): Dropout(p=0.1, inplace=False)\n",
       "          )\n",
       "        )\n",
       "      )\n",
       "    )\n",
       "    (pooler): BertPooler(\n",
       "      (dense): Linear(in_features=768, out_features=768, bias=True)\n",
       "      (activation): Tanh()\n",
       "    )\n",
       "  )\n",
       "  (bigru): GRU(768, 768, dropout=0.2, bidirectional=True)\n",
       "  (gru_aggregation): Linear(in_features=1536, out_features=768, bias=True)\n",
       "  (node_norm): NodeNorm()\n",
       "  (rgcn): HeteroRGCN(\n",
       "    (node_norm): NodeNorm()\n",
       "    (layer1): HeteroRGCNLayer(\n",
       "      (tok_trans): Linear(in_features=768, out_features=768, bias=True)\n",
       "      (tok_att): Linear(in_features=1536, out_features=768, bias=True)\n",
       "      (rel_trans): Linear(in_features=1536, out_features=768, bias=True)\n",
       "      (node_trans): Linear(in_features=768, out_features=768, bias=True)\n",
       "      (node_att): Linear(in_features=1536, out_features=768, bias=True)\n",
       "      (common_space_trans): Linear(in_features=768, out_features=768, bias=True)\n",
       "      (gru_node2tok): GRU(768, 768)\n",
       "      (feat_drop): Dropout(p=0.2, inplace=False)\n",
       "      (attn_drop): Dropout(p=0.1, inplace=False)\n",
       "      (at_trans): Linear(in_features=768, out_features=768, bias=True)\n",
       "      (at_att): Linear(in_features=1536, out_features=768, bias=True)\n",
       "    )\n",
       "    (layer2): HeteroRGCNLayer(\n",
       "      (tok_trans): Linear(in_features=768, out_features=768, bias=True)\n",
       "      (tok_att): Linear(in_features=1536, out_features=768, bias=True)\n",
       "      (rel_trans): Linear(in_features=1536, out_features=768, bias=True)\n",
       "      (node_trans): Linear(in_features=768, out_features=768, bias=True)\n",
       "      (node_att): Linear(in_features=1536, out_features=768, bias=True)\n",
       "      (common_space_trans): Linear(in_features=768, out_features=768, bias=True)\n",
       "      (gru_node2tok): GRU(768, 768)\n",
       "      (feat_drop): Dropout(p=0.2, inplace=False)\n",
       "      (attn_drop): Dropout(p=0.1, inplace=False)\n",
       "      (at_trans): Linear(in_features=768, out_features=768, bias=True)\n",
       "      (at_att): Linear(in_features=1536, out_features=768, bias=True)\n",
       "    )\n",
       "    (gru_layer_lvl): GRU(768, 768)\n",
       "  )\n",
       "  (ent_classifier): Sequential(\n",
       "    (0): Linear(in_features=1536, out_features=768, bias=True)\n",
       "    (1): ReLU()\n",
       "    (2): Linear(in_features=768, out_features=2, bias=True)\n",
       "  )\n",
       "  (sent_classifier): Sequential(\n",
       "    (0): Linear(in_features=1536, out_features=768, bias=True)\n",
       "    (1): ReLU()\n",
       "    (2): Linear(in_features=768, out_features=2, bias=True)\n",
       "  )\n",
       "  (qa_outputs): Sequential(\n",
       "    (0): Linear(in_features=768, out_features=768, bias=True)\n",
       "    (1): GeLU()\n",
       "    (2): Dropout(p=0.2, inplace=False)\n",
       "    (3): Linear(in_features=768, out_features=2, bias=True)\n",
       "  )\n",
       ")"
      ]
     },
     "execution_count": 15,
     "metadata": {},
     "output_type": "execute_result"
    }
   ],
   "source": [
    "model_path = 'models/no_srl/'\n",
    "model = HGNModel.from_pretrained(model_path)\n",
    "model.cuda()"
   ]
  },
  {
   "cell_type": "code",
   "execution_count": 16,
   "metadata": {
    "ExecuteTime": {
     "end_time": "2020-10-17T05:34:28.528858Z",
     "start_time": "2020-10-17T05:08:48.162019Z"
    }
   },
   "outputs": [
    {
     "name": "stderr",
     "output_type": "stream",
     "text": [
      "100%|██████████| 7405/7405 [25:39<00:00,  4.81it/s]\n"
     ]
    }
   ],
   "source": [
    "validation = Validation(model, hotpot, list_graphs,\n",
    "                        tensor_input_ids, tensor_attention_masks,\n",
    "                        tensor_token_type_ids)\n",
    "preds = validation.get_answer_predictions(dict_ins2dict_doc2pred)"
   ]
  },
  {
   "cell_type": "code",
   "execution_count": 17,
   "metadata": {
    "ExecuteTime": {
     "end_time": "2020-10-17T05:34:28.532409Z",
     "start_time": "2020-10-17T05:34:28.530306Z"
    }
   },
   "outputs": [],
   "source": [
    "import json"
   ]
  },
  {
   "cell_type": "code",
   "execution_count": 18,
   "metadata": {
    "ExecuteTime": {
     "end_time": "2020-10-17T05:34:28.678145Z",
     "start_time": "2020-10-17T05:34:28.533718Z"
    }
   },
   "outputs": [],
   "source": [
    "with open('preds_no_srl_top2.json', 'w+') as f:\n",
    "    json.dump(preds, f)"
   ]
  },
  {
   "cell_type": "code",
   "execution_count": null,
   "metadata": {},
   "outputs": [],
   "source": []
  }
 ],
 "metadata": {
  "kernelspec": {
   "display_name": "thesis",
   "language": "python",
   "name": "thesis"
  },
  "language_info": {
   "codemirror_mode": {
    "name": "ipython",
    "version": 3
   },
   "file_extension": ".py",
   "mimetype": "text/x-python",
   "name": "python",
   "nbconvert_exporter": "python",
   "pygments_lexer": "ipython3",
   "version": "3.6.10"
  },
  "toc": {
   "base_numbering": 1,
   "nav_menu": {},
   "number_sections": false,
   "sideBar": true,
   "skip_h1_title": false,
   "title_cell": "Table of Contents",
   "title_sidebar": "Contents",
   "toc_cell": false,
   "toc_position": {},
   "toc_section_display": true,
   "toc_window_display": false
  }
 },
 "nbformat": 4,
 "nbformat_minor": 2
}
